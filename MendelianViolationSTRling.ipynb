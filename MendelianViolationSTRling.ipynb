{
 "cells": [
  {
   "cell_type": "code",
   "execution_count": 44,
   "id": "a584eaa2",
   "metadata": {},
   "outputs": [],
   "source": [
    "import argparse\n",
    "import pandas as pd\n",
    "import numpy as np\n",
    "import peddy ### must be in python version 3.7 for peddy to actually work\n"
   ]
  },
  {
   "cell_type": "code",
   "execution_count": null,
   "id": "f937a541",
   "metadata": {},
   "outputs": [],
   "source": [
    "ped = peddy.Ped('lynchWGS.ped.txt', 'Paternal_ID' == str) ###import peddy file"
   ]
  },
  {
   "cell_type": "code",
   "execution_count": null,
   "id": "d27296dd",
   "metadata": {},
   "outputs": [],
   "source": [
    "def has_parents(sample):\n",
    "    \"\"\"Check if Peddy sample has both parents in ped file\"\"\"\n",
    "    if sample.mom is not None and sample.dad is not None:\n",
    "        return True\n",
    "    return False"
   ]
  },
  {
   "cell_type": "code",
   "execution_count": null,
   "id": "f4bdd796",
   "metadata": {},
   "outputs": [],
   "source": [
    "df = pd.read_table('LaurelSTRsupdated.tsv', delim_whitespace = True, index_col = 0, dtype = {'sample' : str})"
   ]
  },
  {
   "cell_type": "code",
   "execution_count": null,
   "id": "70ae511c",
   "metadata": {},
   "outputs": [],
   "source": [
    "dfnew = df[['allele1_est', 'allele2_est']]"
   ]
  },
  {
   "cell_type": "code",
   "execution_count": null,
   "id": "69c17dcb",
   "metadata": {},
   "outputs": [],
   "source": [
    "dfnewallele1sorted = dfnew.sort_values(by=['allele1_est'])"
   ]
  },
  {
   "cell_type": "code",
   "execution_count": null,
   "id": "ef15fdda",
   "metadata": {},
   "outputs": [],
   "source": [
    "newdf2 = dfnew.groupby(['allele2_est', 'allele1_est']).first()"
   ]
  },
  {
   "cell_type": "code",
   "execution_count": null,
   "id": "55f78c0a",
   "metadata": {},
   "outputs": [],
   "source": [
    "newdf2"
   ]
  },
  {
   "cell_type": "code",
   "execution_count": 73,
   "id": "36bc2f32",
   "metadata": {},
   "outputs": [],
   "source": [
    "dad_alleles = [0.00, 3.67]"
   ]
  },
  {
   "cell_type": "code",
   "execution_count": 74,
   "id": "e5adc487",
   "metadata": {},
   "outputs": [],
   "source": [
    "mom_alleles = [5000, 0.00]"
   ]
  },
  {
   "cell_type": "code",
   "execution_count": 20,
   "id": "283a5d9b",
   "metadata": {},
   "outputs": [],
   "source": [
    "parent_alleles = ['NaN', 'NaN', 'NaN', 'NaN']"
   ]
  },
  {
   "cell_type": "code",
   "execution_count": 75,
   "id": "94cadb2f",
   "metadata": {},
   "outputs": [],
   "source": [
    "kid_alleles = [3.67, 5000]"
   ]
  },
  {
   "cell_type": "code",
   "execution_count": 10,
   "id": "320e0f61",
   "metadata": {},
   "outputs": [],
   "source": [
    "kid_alleles = [0.00, 0.00]"
   ]
  },
  {
   "cell_type": "code",
   "execution_count": 77,
   "id": "b6e1b45e",
   "metadata": {},
   "outputs": [],
   "source": [
    "def valid_alleles(p_alleles):\n",
    "    if len(p_alleles) < 2:\n",
    "        yield []\n",
    "        return\n",
    "    if len(p_alleles) % 2 == 1:\n",
    "        # Handle odd length list\n",
    "        for i in range(len(p_alleles)):\n",
    "            for result in valid_alleles(p_alleles[:i] + p_alleles[i+1:]):\n",
    "                yield result\n",
    "    else:\n",
    "        a = p_alleles[0]\n",
    "        for i in range(1,len(p_alleles)):\n",
    "            pair = (a,p_alleles[i])\n",
    "            for rest in valid_alleles(p_alleles[1:i]+p_alleles[i+1:]):\n",
    "                yield [pair] + rest"
   ]
  },
  {
   "cell_type": "code",
   "execution_count": 68,
   "id": "b312f98a",
   "metadata": {},
   "outputs": [],
   "source": [
    "allele_list = []\n",
    "for x in valid_alleles(mom_alleles):\n",
    "        allele_list.append(x)"
   ]
  },
  {
   "cell_type": "code",
   "execution_count": 69,
   "id": "059b41e3",
   "metadata": {},
   "outputs": [
    {
     "data": {
      "text/plain": [
       "[[(5000, 0.0)]]"
      ]
     },
     "execution_count": 69,
     "metadata": {},
     "output_type": "execute_result"
    }
   ],
   "source": [
    "allele_list"
   ]
  },
  {
   "cell_type": "code",
   "execution_count": null,
   "id": "a47cd9a4",
   "metadata": {},
   "outputs": [],
   "source": []
  },
  {
   "cell_type": "code",
   "execution_count": null,
   "id": "49992fd9",
   "metadata": {},
   "outputs": [],
   "source": []
  },
  {
   "cell_type": "code",
   "execution_count": null,
   "id": "36d9d911",
   "metadata": {},
   "outputs": [],
   "source": [
    "#def compare_alleles(parents, kids):\n",
    " #   allele_list = []\n",
    "  #  for x in valid_alleles(parent_alleles):\n",
    "   #     allele_list.append(x)\n",
    "    #flat_list = list(np.concatenate(allele_list).flat)\n",
    "    #if len(set(flat_list).intersection(kid_alleles)) > 0:\n",
    "     #   print('Possible match!')\n",
    "      #  print(set(flat_list).intersection(kid_alleles))\n",
    "    #else:\n",
    "     #   print('No match')\n",
    "    ### this can't work because sets eliminate the duplicates"
   ]
  },
  {
   "cell_type": "code",
   "execution_count": 86,
   "id": "2aa1a950",
   "metadata": {},
   "outputs": [],
   "source": [
    "def compare_alleles(mom, dad, kids):\n",
    "    mom_allele_list = []\n",
    "    for x in valid_alleles(mom):\n",
    "        mom_allele_list.append(x)\n",
    "    mom_flat_list = list(np.concatenate(mom_allele_list).flat)\n",
    "    results = {}\n",
    "    for i in mom_flat_list:\n",
    "        results[i] = kid_alleles.count(i) \n",
    "    print(results)\n",
    "    dad_allele_list = []\n",
    "    for x in valid_alleles(dad):\n",
    "        dad_allele_list.append(x)\n",
    "    dad_flat_list = list(np.concatenate(dad_allele_list).flat)\n",
    "    results = {}\n",
    "    for i in dad_flat_list:\n",
    "        results[i] = kid_alleles.count(i) \n",
    "    print(results)\n",
    "    "
   ]
  },
  {
   "cell_type": "code",
   "execution_count": 55,
   "id": "5a0a8091",
   "metadata": {},
   "outputs": [],
   "source": [
    "allele_list = []\n",
    "for x in valid_alleles(parent_alleles):\n",
    "    allele_list.append(x)"
   ]
  },
  {
   "cell_type": "code",
   "execution_count": 62,
   "id": "0311f859",
   "metadata": {},
   "outputs": [],
   "source": [
    "flat_list = list(np.concatenate(allele_list).flat)"
   ]
  },
  {
   "cell_type": "code",
   "execution_count": 72,
   "id": "149aa76f",
   "metadata": {},
   "outputs": [
    {
     "data": {
      "text/plain": [
       "[0.0, 0.0, 0.0, 0.0, 0.0, 0.0, 3.67, 3.67, 3.67, 5000.0, 5000.0, 5000.0]"
      ]
     },
     "execution_count": 72,
     "metadata": {},
     "output_type": "execute_result"
    }
   ],
   "source": [
    "sorted(flat_list)"
   ]
  },
  {
   "cell_type": "code",
   "execution_count": 87,
   "id": "4f8cfb75",
   "metadata": {},
   "outputs": [
    {
     "name": "stdout",
     "output_type": "stream",
     "text": [
      "{5000.0: 1, 0.0: 0}\n",
      "{0.0: 0, 3.67: 1}\n"
     ]
    }
   ],
   "source": [
    "compare_alleles(mom_alleles, dad_alleles, kid_alleles)\n",
    "##could do loop\n",
    "## could do list comprehension but\n",
    "\n",
    "\n",
    "    "
   ]
  },
  {
   "cell_type": "code",
   "execution_count": null,
   "id": "3014a131",
   "metadata": {},
   "outputs": [],
   "source": [
    "sum = 0\n",
    "sum += dict[key]\n",
    "## for key in dictionary:"
   ]
  }
 ],
 "metadata": {
  "kernelspec": {
   "display_name": "Python 3",
   "language": "python",
   "name": "python3"
  },
  "language_info": {
   "codemirror_mode": {
    "name": "ipython",
    "version": 3
   },
   "file_extension": ".py",
   "mimetype": "text/x-python",
   "name": "python",
   "nbconvert_exporter": "python",
   "pygments_lexer": "ipython3",
   "version": "3.8.8"
  }
 },
 "nbformat": 4,
 "nbformat_minor": 5
}
