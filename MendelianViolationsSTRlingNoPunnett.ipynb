{
 "cells": [
  {
   "cell_type": "code",
   "execution_count": 1,
   "id": "a584eaa2",
   "metadata": {},
   "outputs": [],
   "source": [
    "import argparse\n",
    "import pandas as pd\n",
    "import numpy as np\n",
    "import peddy ### must be in python version 3.7 for peddy to actually work\n"
   ]
  },
  {
   "cell_type": "code",
   "execution_count": null,
   "id": "f937a541",
   "metadata": {},
   "outputs": [],
   "source": [
    "ped = peddy.Ped('lynchWGS.ped.txt', 'Paternal_ID' == str) ###import peddy file"
   ]
  },
  {
   "cell_type": "code",
   "execution_count": null,
   "id": "d27296dd",
   "metadata": {},
   "outputs": [],
   "source": [
    "def has_parents(sample):\n",
    "    \"\"\"Check if Peddy sample has both parents in ped file\"\"\"\n",
    "    if sample.mom is not None and sample.dad is not None:\n",
    "        return True\n",
    "    return False"
   ]
  },
  {
   "cell_type": "code",
   "execution_count": null,
   "id": "f4bdd796",
   "metadata": {},
   "outputs": [],
   "source": [
    "df = pd.read_table('LaurelSTRsupdated.tsv', delim_whitespace = True, index_col = 0, dtype = {'sample' : str})"
   ]
  },
  {
   "cell_type": "code",
   "execution_count": null,
   "id": "70ae511c",
   "metadata": {},
   "outputs": [],
   "source": [
    "dfnew = df[['allele1_est', 'allele2_est']]"
   ]
  },
  {
   "cell_type": "code",
   "execution_count": null,
   "id": "69c17dcb",
   "metadata": {},
   "outputs": [],
   "source": [
    "dfnewallele1sorted = dfnew.sort_values(by=['allele1_est'])"
   ]
  },
  {
   "cell_type": "code",
   "execution_count": null,
   "id": "ef15fdda",
   "metadata": {},
   "outputs": [],
   "source": [
    "newdf2 = dfnew.groupby(['allele2_est', 'allele1_est']).first()"
   ]
  },
  {
   "cell_type": "code",
   "execution_count": null,
   "id": "3a1e632c",
   "metadata": {},
   "outputs": [],
   "source": [
    "newdf2"
   ]
  },
  {
   "cell_type": "code",
   "execution_count": null,
   "id": "537fec16",
   "metadata": {},
   "outputs": [],
   "source": [
    "dad_alleles = [0.00, 152]"
   ]
  },
  {
   "cell_type": "code",
   "execution_count": null,
   "id": "45300708",
   "metadata": {},
   "outputs": [],
   "source": [
    "mom_alleles = [300, 0.00]"
   ]
  },
  {
   "cell_type": "code",
   "execution_count": null,
   "id": "dd621303",
   "metadata": {},
   "outputs": [],
   "source": [
    "parent_alleles = ['NaN', 'NaN', 'NaN', 'NaN']"
   ]
  },
  {
   "cell_type": "code",
   "execution_count": null,
   "id": "6eb9c8ab",
   "metadata": {},
   "outputs": [],
   "source": [
    "kid_alleles = [3.67, 5000]"
   ]
  },
  {
   "cell_type": "code",
   "execution_count": null,
   "id": "46564da4",
   "metadata": {},
   "outputs": [],
   "source": [
    "kid_alleles = [0.00, 4000]"
   ]
  },
  {
   "cell_type": "code",
   "execution_count": null,
   "id": "d255e2e2",
   "metadata": {},
   "outputs": [],
   "source": []
  },
  {
   "cell_type": "code",
   "execution_count": null,
   "id": "fe672ee2",
   "metadata": {},
   "outputs": [],
   "source": [
    "def valid_alleles(p_alleles):\n",
    "    if len(p_alleles) < 2:\n",
    "        yield []\n",
    "        return\n",
    "    if len(p_alleles) % 2 == 1:\n",
    "        # Handle odd length list\n",
    "        for i in range(len(p_alleles)):\n",
    "            for result in valid_alleles(p_alleles[:i] + p_alleles[i+1:]):\n",
    "                yield result\n",
    "    else:\n",
    "        a = p_alleles[0]\n",
    "        for i in range(1,len(p_alleles)):\n",
    "            pair = (a,p_alleles[i])\n",
    "            for rest in valid_alleles(p_alleles[1:i]+p_alleles[i+1:]):\n",
    "                yield [pair] + rest"
   ]
  },
  {
   "cell_type": "code",
   "execution_count": null,
   "id": "29537e4e",
   "metadata": {},
   "outputs": [],
   "source": [
    "allele_list = []\n",
    "for x in valid_alleles(mom_alleles):\n",
    "        allele_list.append(x)"
   ]
  },
  {
   "cell_type": "code",
   "execution_count": null,
   "id": "e1c3f972",
   "metadata": {},
   "outputs": [],
   "source": [
    "allele_list"
   ]
  },
  {
   "cell_type": "code",
   "execution_count": null,
   "id": "6a6296d6",
   "metadata": {},
   "outputs": [],
   "source": [
    "kiddict = {\n",
    "    \"allele1\": 400,\n",
    "    'allele2': 0,\n",
    "}"
   ]
  },
  {
   "cell_type": "code",
   "execution_count": null,
   "id": "2dcd3ede",
   "metadata": {},
   "outputs": [],
   "source": [
    "momdict = {\n",
    "    \"allele1\": 400,\n",
    "    'allele2': 0,\n",
    "}"
   ]
  },
  {
   "cell_type": "code",
   "execution_count": null,
   "id": "70ecf35e",
   "metadata": {},
   "outputs": [],
   "source": [
    "momdict[\"allele1\"] "
   ]
  },
  {
   "cell_type": "code",
   "execution_count": null,
   "id": "481de4f4",
   "metadata": {},
   "outputs": [],
   "source": []
  },
  {
   "cell_type": "code",
   "execution_count": null,
   "id": "ba3abd17",
   "metadata": {},
   "outputs": [],
   "source": [
    "kiddict[\"allele1\"]"
   ]
  },
  {
   "cell_type": "code",
   "execution_count": null,
   "id": "0b5ae278",
   "metadata": {},
   "outputs": [],
   "source": [
    "fruits = [\"apple\", \"banana\", \"cherry\", \"kiwi\", \"mango\"]\n",
    "newlist = []\n",
    "\n",
    "for x in mom_alleles:\n",
    "  if \"a\" in x:\n",
    "    newlist.append(x)\n",
    "\n",
    "print(newlist)\n"
   ]
  },
  {
   "cell_type": "code",
   "execution_count": null,
   "id": "11534359",
   "metadata": {},
   "outputs": [],
   "source": []
  },
  {
   "cell_type": "code",
   "execution_count": null,
   "id": "8b18aa10",
   "metadata": {},
   "outputs": [],
   "source": [
    "#def compare_alleles(parents, kids):\n",
    " #   allele_list = []\n",
    "  #  for x in valid_alleles(parent_alleles):\n",
    "   #     allele_list.append(x)\n",
    "    #flat_list = list(np.concatenate(allele_list).flat)\n",
    "    #if len(set(flat_list).intersection(kid_alleles)) > 0:\n",
    "     #   print('Possible match!')\n",
    "      #  print(set(flat_list).intersection(kid_alleles))\n",
    "    #else:\n",
    "     #   print('No match')\n",
    "    ### this can't work because sets eliminate the duplicates"
   ]
  },
  {
   "cell_type": "code",
   "execution_count": null,
   "id": "fca55440",
   "metadata": {},
   "outputs": [],
   "source": [
    "def compare_alleles(mom, dad, kid):\n",
    "    results = {}\n",
    "    for i in mom_alleles:\n",
    "        results[i] = kid_alleles.count(i) \n",
    "    print(results)\n",
    "    \n",
    "    results = {}\n",
    "    for i in dad_alleles:\n",
    "        results[i] = kid_alleles.count(i) \n",
    "    print(results)\n",
    "    "
   ]
  },
  {
   "cell_type": "code",
   "execution_count": null,
   "id": "8702b664",
   "metadata": {},
   "outputs": [],
   "source": [
    "allele_list = []\n",
    "for x in valid_alleles(parent_alleles):\n",
    "    allele_list.append(x)"
   ]
  },
  {
   "cell_type": "code",
   "execution_count": null,
   "id": "f8cd956a",
   "metadata": {},
   "outputs": [],
   "source": [
    "flat_list = list(np.concatenate(allele_list).flat)"
   ]
  },
  {
   "cell_type": "code",
   "execution_count": null,
   "id": "1977334e",
   "metadata": {},
   "outputs": [],
   "source": [
    "sorted(flat_list)"
   ]
  },
  {
   "cell_type": "code",
   "execution_count": null,
   "id": "257606e0",
   "metadata": {},
   "outputs": [],
   "source": [
    "compare_alleles(mom_alleles, dad_alleles, kid_alleles)\n",
    "##could do loop\n",
    "## could do list comprehension but\n",
    "\n",
    "\n",
    "    "
   ]
  },
  {
   "cell_type": "code",
   "execution_count": null,
   "id": "f3a457c7",
   "metadata": {},
   "outputs": [],
   "source": [
    "sum = 0\n",
    "sum += dict[key]\n",
    "## for key in dictionary:"
   ]
  },
  {
   "cell_type": "code",
   "execution_count": null,
   "id": "83897e01",
   "metadata": {},
   "outputs": [],
   "source": [
    "momkid = (set(mom_alleles) & set(kid_alleles))"
   ]
  },
  {
   "cell_type": "code",
   "execution_count": null,
   "id": "10f242ab",
   "metadata": {},
   "outputs": [],
   "source": [
    "allele = 100"
   ]
  },
  {
   "cell_type": "code",
   "execution_count": null,
   "id": "706b2d5f",
   "metadata": {},
   "outputs": [],
   "source": [
    "wigglecommand = 10"
   ]
  },
  {
   "cell_type": "code",
   "execution_count": null,
   "id": "f12275cd",
   "metadata": {},
   "outputs": [],
   "source": [
    "wiggle(wigglecommand)"
   ]
  },
  {
   "cell_type": "code",
   "execution_count": null,
   "id": "032f5f69",
   "metadata": {},
   "outputs": [],
   "source": [
    "def wiggle(wigglecommand):\n",
    "        if type(wigglecommand) is int:\n",
    "            wiggleint = wigglecommand\n",
    "            return wiggleint\n",
    "        else:\n",
    "            type(wigglecommand) is str\n",
    "            wigglestr = int(wigglecommand)\n",
    "            return wigglestr"
   ]
  },
  {
   "cell_type": "code",
   "execution_count": null,
   "id": "668d8f2e",
   "metadata": {},
   "outputs": [],
   "source": [
    "def allele_check(allele1,allele2):\n",
    "    if allele1 == 'NaN' and allele2 == 'NaN':\n",
    "        allele1 == 'NaN'\n",
    "    elif allele1 != 'NaN' and allele2 == 'NaN':\n",
    "        if allele1 >= 350:\n",
    "            allele2 = 350\n",
    "            allele1 = 350\n",
    "        else:\n",
    "            allele2 = allele1\n",
    "    elif allele1 == 'NaN' and allele2 != 'NaN':\n",
    "        if allele2 >= 350:\n",
    "            allele1 = 350\n",
    "            allele2 = 350\n",
    "        else:\n",
    "            allele1 = allele2\n",
    "    elif allele2 >= 350:\n",
    "        allele2 = 350   \n",
    "    elif allele1 >= 350:\n",
    "        allele1 = 350\n",
    "    else:\n",
    "        allele1 = allele1\n",
    "        allele2 = allele2\n",
    "    return allele1, allele2"
   ]
  },
  {
   "cell_type": "code",
   "execution_count": null,
   "id": "4f3bc217",
   "metadata": {},
   "outputs": [],
   "source": [
    "allele_check(50, 60)"
   ]
  },
  {
   "cell_type": "code",
   "execution_count": null,
   "id": "4d6e13b3",
   "metadata": {},
   "outputs": [],
   "source": [
    "allele_range(10,150,150)"
   ]
  },
  {
   "cell_type": "code",
   "execution_count": null,
   "id": "da23091f",
   "metadata": {},
   "outputs": [],
   "source": [
    "def allele_range(wigglecommand, allele1, allele2):\n",
    "    if allele1 and allele2 == 'NaN':\n",
    "      return  \n",
    "    else:\n",
    "        tple1 = (allele1 - wiggle(wigglecommand), allele1 + wiggle(wigglecommand))\n",
    "        tple2 = (allele2 - wiggle(wigglecommand), allele2 + wiggle(wigglecommand))\n",
    "    return tple1, tple2\n",
    "\n",
    "    "
   ]
  },
  {
   "cell_type": "code",
   "execution_count": null,
   "id": "341964b7",
   "metadata": {},
   "outputs": [],
   "source": [
    "def get_allele_ranges(wigglecommand, allele1, allele2):\n",
    "    a, b = allele_check(allele1,allele2)\n",
    "    print(a)\n",
    "    print(b)\n",
    "    print(allele_range(wigglecommand, a, b))\n",
    "    \n",
    "    "
   ]
  },
  {
   "cell_type": "code",
   "execution_count": null,
   "id": "eae7a5f7",
   "metadata": {},
   "outputs": [],
   "source": [
    "get_allele_ranges(10,500,'NaN')"
   ]
  },
  {
   "cell_type": "code",
   "execution_count": null,
   "id": "7469bd22",
   "metadata": {},
   "outputs": [],
   "source": [
    "allele_range(wigglecommand,50)"
   ]
  },
  {
   "cell_type": "code",
   "execution_count": null,
   "id": "71eaeaed",
   "metadata": {},
   "outputs": [],
   "source": [
    "def check_range(kidallele, tple):\n",
    "    a,b = tple\n",
    "    if a <= kidallele <= b:\n",
    "        print True\n",
    "    elif kidallele > a and b:\n",
    "        print('Too big')\n",
    "    else: \n",
    "        print('Booooo')"
   ]
  },
  {
   "cell_type": "code",
   "execution_count": null,
   "id": "2734a354",
   "metadata": {
    "scrolled": true
   },
   "outputs": [],
   "source": [
    "check_range(kidallele, tple)"
   ]
  },
  {
   "cell_type": "code",
   "execution_count": null,
   "id": "ed668cac",
   "metadata": {},
   "outputs": [],
   "source": [
    "check_range(kidallele, allele_range(wigglecommand, mom_allele1))\n",
    "check_range(kidallele, allele_range(wigglecommand, mom_allele2))"
   ]
  },
  {
   "cell_type": "code",
   "execution_count": null,
   "id": "bce848f9",
   "metadata": {},
   "outputs": [],
   "source": [
    "if check_range(kidallele, allele_range(wigglecommand, mom_allele1)) is True:\n",
    "    print(\"Cool\")\n",
    "else:\n",
    "    print('What is up')"
   ]
  },
  {
   "cell_type": "code",
   "execution_count": null,
   "id": "f53249b3",
   "metadata": {},
   "outputs": [],
   "source": [
    "mom_allele2 = 200"
   ]
  }
 ],
 "metadata": {
  "kernelspec": {
   "display_name": "Python 3",
   "language": "python",
   "name": "python3"
  },
  "language_info": {
   "codemirror_mode": {
    "name": "ipython",
    "version": 3
   },
   "file_extension": ".py",
   "mimetype": "text/x-python",
   "name": "python",
   "nbconvert_exporter": "python",
   "pygments_lexer": "ipython3",
   "version": "3.8.8"
  }
 },
 "nbformat": 4,
 "nbformat_minor": 5
}
