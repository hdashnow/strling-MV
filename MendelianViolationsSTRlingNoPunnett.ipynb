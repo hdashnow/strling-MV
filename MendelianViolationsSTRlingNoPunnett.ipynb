{
 "cells": [
  {
   "cell_type": "code",
   "execution_count": 1,
   "id": "a584eaa2",
   "metadata": {},
   "outputs": [],
   "source": [
    "import argparse\n",
    "import pandas as pd\n",
    "import numpy as np\n",
    "import peddy ### must be in python version 3.7 for peddy to actually work"
   ]
  },
  {
   "cell_type": "code",
   "execution_count": null,
   "id": "00cf4fda",
   "metadata": {},
   "outputs": [],
   "source": [
    "def get_args():\n",
    "    \"\"\"Incorporating argparse into the code for interchangeable arguments\"\"\"\n",
    "    parser = argparse.ArgumentParser()\n",
    "    parser.add_argument(\"--outliers\",\n",
    "        help=\"input outlier name\")\n",
    "    parser.add_argument(\"--ped\",\n",
    "        help=\"input ped file\")\n",
    "\t### out will just be the name of my output file... turn up\n",
    "    parser.add_argument(\"--out\",\n",
    "        help=\"outputfile\")\n",
    "    return parser.parse_args()"
   ]
  },
  {
   "cell_type": "code",
   "execution_count": 2,
   "id": "f937a541",
   "metadata": {},
   "outputs": [],
   "source": [
    "ped = peddy.Ped('lynchWGS.ped.txt', 'Paternal_ID' == str) ###import peddy file"
   ]
  },
  {
   "cell_type": "code",
   "execution_count": 3,
   "id": "5d7beda9",
   "metadata": {},
   "outputs": [],
   "source": [
    "df = pd.read_table('LaurelSTRsupdated.tsv', delim_whitespace = True, index_col = 0, dtype = {'sample' : str})"
   ]
  },
  {
   "cell_type": "code",
   "execution_count": 5,
   "id": "d27296dd",
   "metadata": {},
   "outputs": [],
   "source": [
    "def has_parents(sample):\n",
    "    \"\"\"Check if Peddy sample has both parents in ped file\"\"\"\n",
    "    if sample.mom is not None and sample.dad is not None:\n",
    "        return True\n",
    "    return False"
   ]
  },
  {
   "cell_type": "code",
   "execution_count": 6,
   "id": "257a024e",
   "metadata": {},
   "outputs": [
    {
     "name": "stdout",
     "output_type": "stream",
     "text": [
      "209\n",
      "209\n",
      "209\n",
      "987\n",
      "224\n",
      "224\n",
      "224\n",
      "224\n",
      "236\n",
      "198\n",
      "198\n",
      "221\n",
      "207\n",
      "216\n",
      "192\n",
      "193\n",
      "187\n",
      "187\n",
      "187\n",
      "225\n",
      "225\n",
      "225\n",
      "225\n"
     ]
    }
   ],
   "source": [
    "for sample in ped.samples():\n",
    "        if has_parents(sample):\n",
    "            print(sample.maternal_id)"
   ]
  },
  {
   "cell_type": "code",
   "execution_count": 7,
   "id": "7d5c509d",
   "metadata": {},
   "outputs": [],
   "source": [
    "dfkid = df.loc[df['sample'] == '003'] ###match the data frame to the samples of the individual or \"kid\"\n",
    "###dfkid['mutation'] = mutation\n",
    "###add a new column matched by sample mutation from mom and dad\n",
    "### the above line generates a loc error possibily based on a misunderstanding, but be aware of it\n",
    "dfmom = df.loc[df['sample'] == '209']\n",
    "dfdad = df.loc[df['sample'] == '239']"
   ]
  },
  {
   "cell_type": "code",
   "execution_count": 8,
   "id": "a5a885e2",
   "metadata": {},
   "outputs": [
    {
     "data": {
      "text/html": [
       "<div>\n",
       "<style scoped>\n",
       "    .dataframe tbody tr th:only-of-type {\n",
       "        vertical-align: middle;\n",
       "    }\n",
       "\n",
       "    .dataframe tbody tr th {\n",
       "        vertical-align: top;\n",
       "    }\n",
       "\n",
       "    .dataframe thead th {\n",
       "        text-align: right;\n",
       "    }\n",
       "</style>\n",
       "<table border=\"1\" class=\"dataframe\">\n",
       "  <thead>\n",
       "    <tr style=\"text-align: right;\">\n",
       "      <th></th>\n",
       "      <th>left</th>\n",
       "      <th>right</th>\n",
       "      <th>locus</th>\n",
       "      <th>sample</th>\n",
       "      <th>repeatunit</th>\n",
       "      <th>allele1_est</th>\n",
       "      <th>allele2_est</th>\n",
       "      <th>spanning_reads</th>\n",
       "      <th>spanning_pairs</th>\n",
       "      <th>left_clips</th>\n",
       "      <th>right_clips</th>\n",
       "      <th>unplaced_pairs</th>\n",
       "      <th>sum_str_counts</th>\n",
       "      <th>sum_str_log</th>\n",
       "      <th>depth</th>\n",
       "      <th>outlier</th>\n",
       "      <th>p</th>\n",
       "      <th>p_adj</th>\n",
       "    </tr>\n",
       "    <tr>\n",
       "      <th>chrom</th>\n",
       "      <th></th>\n",
       "      <th></th>\n",
       "      <th></th>\n",
       "      <th></th>\n",
       "      <th></th>\n",
       "      <th></th>\n",
       "      <th></th>\n",
       "      <th></th>\n",
       "      <th></th>\n",
       "      <th></th>\n",
       "      <th></th>\n",
       "      <th></th>\n",
       "      <th></th>\n",
       "      <th></th>\n",
       "      <th></th>\n",
       "      <th></th>\n",
       "      <th></th>\n",
       "      <th></th>\n",
       "    </tr>\n",
       "  </thead>\n",
       "  <tbody>\n",
       "    <tr>\n",
       "      <th>chr15</th>\n",
       "      <td>74884270</td>\n",
       "      <td>74884271</td>\n",
       "      <td>chr15-74884270-74884271-T</td>\n",
       "      <td>209</td>\n",
       "      <td>T</td>\n",
       "      <td>0.0</td>\n",
       "      <td>156.34</td>\n",
       "      <td>22.0</td>\n",
       "      <td>28.0</td>\n",
       "      <td>0.0</td>\n",
       "      <td>8.0</td>\n",
       "      <td>0.0</td>\n",
       "      <td>438.0</td>\n",
       "      <td>3.8</td>\n",
       "      <td>32.0</td>\n",
       "      <td>17.01</td>\n",
       "      <td>3.300000e-65</td>\n",
       "      <td>4.400000e-61</td>\n",
       "    </tr>\n",
       "    <tr>\n",
       "      <th>chr6</th>\n",
       "      <td>159980183</td>\n",
       "      <td>159980239</td>\n",
       "      <td>chr6-159980183-159980239-AAAG</td>\n",
       "      <td>209</td>\n",
       "      <td>AAAG</td>\n",
       "      <td>0.0</td>\n",
       "      <td>26.59</td>\n",
       "      <td>0.0</td>\n",
       "      <td>19.0</td>\n",
       "      <td>0.0</td>\n",
       "      <td>0.0</td>\n",
       "      <td>0.0</td>\n",
       "      <td>180.0</td>\n",
       "      <td>3.0</td>\n",
       "      <td>23.0</td>\n",
       "      <td>16.27</td>\n",
       "      <td>7.500000e-60</td>\n",
       "      <td>5.100000e-56</td>\n",
       "    </tr>\n",
       "    <tr>\n",
       "      <th>chr15</th>\n",
       "      <td>92296076</td>\n",
       "      <td>92296077</td>\n",
       "      <td>chr15-92296076-92296077-AAAG</td>\n",
       "      <td>209</td>\n",
       "      <td>AAAG</td>\n",
       "      <td>0.0</td>\n",
       "      <td>15.86</td>\n",
       "      <td>8.0</td>\n",
       "      <td>34.0</td>\n",
       "      <td>0.0</td>\n",
       "      <td>2.0</td>\n",
       "      <td>0.0</td>\n",
       "      <td>83.0</td>\n",
       "      <td>1.8</td>\n",
       "      <td>24.0</td>\n",
       "      <td>15.17</td>\n",
       "      <td>2.800000e-52</td>\n",
       "      <td>1.200000e-48</td>\n",
       "    </tr>\n",
       "    <tr>\n",
       "      <th>chr17</th>\n",
       "      <td>64219424</td>\n",
       "      <td>64219425</td>\n",
       "      <td>chr17-64219424-64219425-AAAAT</td>\n",
       "      <td>209</td>\n",
       "      <td>AAAAT</td>\n",
       "      <td>0.0</td>\n",
       "      <td>15.18</td>\n",
       "      <td>19.0</td>\n",
       "      <td>24.0</td>\n",
       "      <td>0.0</td>\n",
       "      <td>0.0</td>\n",
       "      <td>0.0</td>\n",
       "      <td>107.0</td>\n",
       "      <td>2.2</td>\n",
       "      <td>23.0</td>\n",
       "      <td>14.93</td>\n",
       "      <td>1.100000e-50</td>\n",
       "      <td>3.600000e-47</td>\n",
       "    </tr>\n",
       "    <tr>\n",
       "      <th>chr18</th>\n",
       "      <td>24098405</td>\n",
       "      <td>24098406</td>\n",
       "      <td>chr18-24098405-24098406-C</td>\n",
       "      <td>209</td>\n",
       "      <td>C</td>\n",
       "      <td>0.0</td>\n",
       "      <td>84.00</td>\n",
       "      <td>13.0</td>\n",
       "      <td>22.0</td>\n",
       "      <td>0.0</td>\n",
       "      <td>0.0</td>\n",
       "      <td>0.0</td>\n",
       "      <td>142.0</td>\n",
       "      <td>2.5</td>\n",
       "      <td>26.0</td>\n",
       "      <td>14.71</td>\n",
       "      <td>2.800000e-49</td>\n",
       "      <td>7.500000e-46</td>\n",
       "    </tr>\n",
       "    <tr>\n",
       "      <th>...</th>\n",
       "      <td>...</td>\n",
       "      <td>...</td>\n",
       "      <td>...</td>\n",
       "      <td>...</td>\n",
       "      <td>...</td>\n",
       "      <td>...</td>\n",
       "      <td>...</td>\n",
       "      <td>...</td>\n",
       "      <td>...</td>\n",
       "      <td>...</td>\n",
       "      <td>...</td>\n",
       "      <td>...</td>\n",
       "      <td>...</td>\n",
       "      <td>...</td>\n",
       "      <td>...</td>\n",
       "      <td>...</td>\n",
       "      <td>...</td>\n",
       "      <td>...</td>\n",
       "    </tr>\n",
       "    <tr>\n",
       "      <th>NaN</th>\n",
       "      <td>0</td>\n",
       "      <td>0</td>\n",
       "      <td>chrX-113126218-113126219-C</td>\n",
       "      <td>209</td>\n",
       "      <td>NaN</td>\n",
       "      <td>NaN</td>\n",
       "      <td>NaN</td>\n",
       "      <td>NaN</td>\n",
       "      <td>NaN</td>\n",
       "      <td>NaN</td>\n",
       "      <td>NaN</td>\n",
       "      <td>NaN</td>\n",
       "      <td>NaN</td>\n",
       "      <td>NaN</td>\n",
       "      <td>24.0</td>\n",
       "      <td>NaN</td>\n",
       "      <td>NaN</td>\n",
       "      <td>NaN</td>\n",
       "    </tr>\n",
       "    <tr>\n",
       "      <th>NaN</th>\n",
       "      <td>0</td>\n",
       "      <td>0</td>\n",
       "      <td>chrX-340005-340006-C</td>\n",
       "      <td>209</td>\n",
       "      <td>NaN</td>\n",
       "      <td>NaN</td>\n",
       "      <td>NaN</td>\n",
       "      <td>NaN</td>\n",
       "      <td>NaN</td>\n",
       "      <td>NaN</td>\n",
       "      <td>NaN</td>\n",
       "      <td>NaN</td>\n",
       "      <td>NaN</td>\n",
       "      <td>NaN</td>\n",
       "      <td>24.0</td>\n",
       "      <td>NaN</td>\n",
       "      <td>NaN</td>\n",
       "      <td>NaN</td>\n",
       "    </tr>\n",
       "    <tr>\n",
       "      <th>NaN</th>\n",
       "      <td>0</td>\n",
       "      <td>0</td>\n",
       "      <td>chrX-340215-340216-C</td>\n",
       "      <td>209</td>\n",
       "      <td>NaN</td>\n",
       "      <td>NaN</td>\n",
       "      <td>NaN</td>\n",
       "      <td>NaN</td>\n",
       "      <td>NaN</td>\n",
       "      <td>NaN</td>\n",
       "      <td>NaN</td>\n",
       "      <td>NaN</td>\n",
       "      <td>NaN</td>\n",
       "      <td>NaN</td>\n",
       "      <td>24.0</td>\n",
       "      <td>NaN</td>\n",
       "      <td>NaN</td>\n",
       "      <td>NaN</td>\n",
       "    </tr>\n",
       "    <tr>\n",
       "      <th>NaN</th>\n",
       "      <td>0</td>\n",
       "      <td>0</td>\n",
       "      <td>chrX-36465331-36465332-G</td>\n",
       "      <td>209</td>\n",
       "      <td>NaN</td>\n",
       "      <td>NaN</td>\n",
       "      <td>NaN</td>\n",
       "      <td>NaN</td>\n",
       "      <td>NaN</td>\n",
       "      <td>NaN</td>\n",
       "      <td>NaN</td>\n",
       "      <td>NaN</td>\n",
       "      <td>NaN</td>\n",
       "      <td>NaN</td>\n",
       "      <td>24.0</td>\n",
       "      <td>NaN</td>\n",
       "      <td>NaN</td>\n",
       "      <td>NaN</td>\n",
       "    </tr>\n",
       "    <tr>\n",
       "      <th>NaN</th>\n",
       "      <td>0</td>\n",
       "      <td>0</td>\n",
       "      <td>chrX-94237085-94237086-C</td>\n",
       "      <td>209</td>\n",
       "      <td>NaN</td>\n",
       "      <td>NaN</td>\n",
       "      <td>NaN</td>\n",
       "      <td>NaN</td>\n",
       "      <td>NaN</td>\n",
       "      <td>NaN</td>\n",
       "      <td>NaN</td>\n",
       "      <td>NaN</td>\n",
       "      <td>NaN</td>\n",
       "      <td>NaN</td>\n",
       "      <td>24.0</td>\n",
       "      <td>NaN</td>\n",
       "      <td>NaN</td>\n",
       "      <td>NaN</td>\n",
       "    </tr>\n",
       "  </tbody>\n",
       "</table>\n",
       "<p>13559 rows × 18 columns</p>\n",
       "</div>"
      ],
      "text/plain": [
       "            left      right                          locus sample repeatunit  \\\n",
       "chrom                                                                          \n",
       "chr15   74884270   74884271      chr15-74884270-74884271-T    209          T   \n",
       "chr6   159980183  159980239  chr6-159980183-159980239-AAAG    209       AAAG   \n",
       "chr15   92296076   92296077   chr15-92296076-92296077-AAAG    209       AAAG   \n",
       "chr17   64219424   64219425  chr17-64219424-64219425-AAAAT    209      AAAAT   \n",
       "chr18   24098405   24098406      chr18-24098405-24098406-C    209          C   \n",
       "...          ...        ...                            ...    ...        ...   \n",
       "NaN            0          0     chrX-113126218-113126219-C    209        NaN   \n",
       "NaN            0          0           chrX-340005-340006-C    209        NaN   \n",
       "NaN            0          0           chrX-340215-340216-C    209        NaN   \n",
       "NaN            0          0       chrX-36465331-36465332-G    209        NaN   \n",
       "NaN            0          0       chrX-94237085-94237086-C    209        NaN   \n",
       "\n",
       "       allele1_est  allele2_est  spanning_reads  spanning_pairs  left_clips  \\\n",
       "chrom                                                                         \n",
       "chr15          0.0       156.34            22.0            28.0         0.0   \n",
       "chr6           0.0        26.59             0.0            19.0         0.0   \n",
       "chr15          0.0        15.86             8.0            34.0         0.0   \n",
       "chr17          0.0        15.18            19.0            24.0         0.0   \n",
       "chr18          0.0        84.00            13.0            22.0         0.0   \n",
       "...            ...          ...             ...             ...         ...   \n",
       "NaN            NaN          NaN             NaN             NaN         NaN   \n",
       "NaN            NaN          NaN             NaN             NaN         NaN   \n",
       "NaN            NaN          NaN             NaN             NaN         NaN   \n",
       "NaN            NaN          NaN             NaN             NaN         NaN   \n",
       "NaN            NaN          NaN             NaN             NaN         NaN   \n",
       "\n",
       "       right_clips  unplaced_pairs  sum_str_counts  sum_str_log  depth  \\\n",
       "chrom                                                                    \n",
       "chr15          8.0             0.0           438.0          3.8   32.0   \n",
       "chr6           0.0             0.0           180.0          3.0   23.0   \n",
       "chr15          2.0             0.0            83.0          1.8   24.0   \n",
       "chr17          0.0             0.0           107.0          2.2   23.0   \n",
       "chr18          0.0             0.0           142.0          2.5   26.0   \n",
       "...            ...             ...             ...          ...    ...   \n",
       "NaN            NaN             NaN             NaN          NaN   24.0   \n",
       "NaN            NaN             NaN             NaN          NaN   24.0   \n",
       "NaN            NaN             NaN             NaN          NaN   24.0   \n",
       "NaN            NaN             NaN             NaN          NaN   24.0   \n",
       "NaN            NaN             NaN             NaN          NaN   24.0   \n",
       "\n",
       "       outlier             p         p_adj  \n",
       "chrom                                       \n",
       "chr15    17.01  3.300000e-65  4.400000e-61  \n",
       "chr6     16.27  7.500000e-60  5.100000e-56  \n",
       "chr15    15.17  2.800000e-52  1.200000e-48  \n",
       "chr17    14.93  1.100000e-50  3.600000e-47  \n",
       "chr18    14.71  2.800000e-49  7.500000e-46  \n",
       "...        ...           ...           ...  \n",
       "NaN        NaN           NaN           NaN  \n",
       "NaN        NaN           NaN           NaN  \n",
       "NaN        NaN           NaN           NaN  \n",
       "NaN        NaN           NaN           NaN  \n",
       "NaN        NaN           NaN           NaN  \n",
       "\n",
       "[13559 rows x 18 columns]"
      ]
     },
     "execution_count": 8,
     "metadata": {},
     "output_type": "execute_result"
    }
   ],
   "source": [
    "dfmom"
   ]
  },
  {
   "cell_type": "code",
   "execution_count": 9,
   "id": "3a841d61",
   "metadata": {},
   "outputs": [],
   "source": [
    "dfkid = dfkid.rename(columns={\"allele1_est\":\"allele1kid\", \"allele2_est\":\"allele2kid\", \"depth\": \"depth_kid\"})\n",
    "dfdad = dfdad.rename(columns={\"allele1_est\":\"allele1dad\", \"allele2_est\":\"allele2dad\", \"depth\": \"depth_dad\"})\n",
    "dfmom = dfmom.rename(columns={\"allele1_est\":\"allele1mom\", \"allele2_est\":\"allele2mom\",\"depth\": \"depth_mom\"})"
   ]
  },
  {
   "cell_type": "code",
   "execution_count": 10,
   "id": "fd5d3593",
   "metadata": {},
   "outputs": [],
   "source": [
    "drop_from_dkid= ['spanning_reads', 'spanning_pairs', 'left_clips', 'right_clips', 'unplaced_pairs', 'sum_str_counts', 'sum_str_log', 'outlier']\n",
    "drop_from_parents = ['left', 'right', 'chrom', 'chrom_path', 'right_path', 'left_path', 'disease', 'repeatunit_path', 'overlap', 'sample', 'p', 'p_adj', 'repeatunit'] + drop_from_dkid\n",
    "not_in_df = []\n",
    "for item in drop_from_parents:\n",
    "    if item not in df.columns:\n",
    "        not_in_df.append(item)"
   ]
  },
  {
   "cell_type": "code",
   "execution_count": 11,
   "id": "739dba91",
   "metadata": {},
   "outputs": [],
   "source": [
    "for x in not_in_df:\n",
    "        drop_from_parents.remove(x)\n",
    "dfkid = dfkid.drop(drop_from_dkid, axis=1)\n",
    "dfmom = dfmom.drop(drop_from_parents, axis=1)\n",
    "dfdad = dfdad.drop(drop_from_parents, axis=1)"
   ]
  },
  {
   "cell_type": "code",
   "execution_count": null,
   "id": "b4f94077",
   "metadata": {},
   "outputs": [],
   "source": [
    "dfmom"
   ]
  },
  {
   "cell_type": "code",
   "execution_count": 12,
   "id": "39a302de",
   "metadata": {},
   "outputs": [],
   "source": [
    "kiddad = dfkid.merge(dfdad, on= 'locus',)\n",
    "kiddadmom = kiddad.merge(dfmom, on= 'locus')"
   ]
  },
  {
   "cell_type": "code",
   "execution_count": null,
   "id": "d58390b1",
   "metadata": {},
   "outputs": [],
   "source": [
    "kiddadmom"
   ]
  },
  {
   "cell_type": "code",
   "execution_count": 13,
   "id": "3aa0b520",
   "metadata": {},
   "outputs": [],
   "source": [
    "wgl = 10"
   ]
  },
  {
   "cell_type": "code",
   "execution_count": 34,
   "id": "cf6182cb",
   "metadata": {},
   "outputs": [
    {
     "ename": "ValueError",
     "evalue": "The truth value of a Series is ambiguous. Use a.empty, a.bool(), a.item(), a.any() or a.all().",
     "output_type": "error",
     "traceback": [
      "\u001b[0;31m---------------------------------------------------------------------------\u001b[0m",
      "\u001b[0;31mValueError\u001b[0m                                Traceback (most recent call last)",
      "\u001b[0;32m<ipython-input-34-31e173bf40c0>\u001b[0m in \u001b[0;36m<module>\u001b[0;34m\u001b[0m\n\u001b[1;32m     12\u001b[0m         \u001b[0;34m\"allele2\"\u001b[0m\u001b[0;34m:\u001b[0m \u001b[0mkiddadmom\u001b[0m\u001b[0;34m[\u001b[0m\u001b[0;34m\"allele2dad\"\u001b[0m\u001b[0;34m]\u001b[0m\u001b[0;34m\u001b[0m\u001b[0;34m\u001b[0m\u001b[0m\n\u001b[1;32m     13\u001b[0m     }\n\u001b[0;32m---> 14\u001b[0;31m     \u001b[0mfull_allele_check\u001b[0m\u001b[0;34m(\u001b[0m\u001b[0mwgl\u001b[0m\u001b[0;34m,\u001b[0m\u001b[0mmomdict\u001b[0m\u001b[0;34m,\u001b[0m\u001b[0mdaddict\u001b[0m\u001b[0;34m,\u001b[0m\u001b[0mkiddict\u001b[0m\u001b[0;34m)\u001b[0m\u001b[0;34m\u001b[0m\u001b[0;34m\u001b[0m\u001b[0m\n\u001b[0m",
      "\u001b[0;32m<ipython-input-32-6f6ecbc05e5d>\u001b[0m in \u001b[0;36mfull_allele_check\u001b[0;34m(wgl, momalleledict, dadalleledict, kidalleledict)\u001b[0m\n\u001b[1;32m      1\u001b[0m \u001b[0;32mdef\u001b[0m \u001b[0mfull_allele_check\u001b[0m\u001b[0;34m(\u001b[0m\u001b[0mwgl\u001b[0m\u001b[0;34m,\u001b[0m \u001b[0mmomalleledict\u001b[0m\u001b[0;34m,\u001b[0m \u001b[0mdadalleledict\u001b[0m\u001b[0;34m,\u001b[0m\u001b[0mkidalleledict\u001b[0m\u001b[0;34m)\u001b[0m\u001b[0;34m:\u001b[0m\u001b[0;34m\u001b[0m\u001b[0;34m\u001b[0m\u001b[0m\n\u001b[0;32m----> 2\u001b[0;31m     \u001b[0;32mif\u001b[0m \u001b[0;34m(\u001b[0m\u001b[0mkidalleledict\u001b[0m\u001b[0;34m[\u001b[0m\u001b[0;34m'allele1'\u001b[0m\u001b[0;34m]\u001b[0m \u001b[0;34m==\u001b[0m \u001b[0;34m'NaN'\u001b[0m \u001b[0;32mand\u001b[0m \u001b[0mkidalleledict\u001b[0m\u001b[0;34m[\u001b[0m\u001b[0;34m'allele2'\u001b[0m\u001b[0;34m]\u001b[0m \u001b[0;34m==\u001b[0m \u001b[0;34m'NaN'\u001b[0m\u001b[0;34m)\u001b[0m \u001b[0;32mor\u001b[0m \u001b[0;34m(\u001b[0m\u001b[0mmomalleledict\u001b[0m\u001b[0;34m[\u001b[0m\u001b[0;34m'allele1'\u001b[0m\u001b[0;34m]\u001b[0m \u001b[0;34m==\u001b[0m \u001b[0;34m'NaN'\u001b[0m \u001b[0;32mand\u001b[0m \u001b[0mmomalleledict\u001b[0m\u001b[0;34m[\u001b[0m\u001b[0;34m'allele2'\u001b[0m\u001b[0;34m]\u001b[0m \u001b[0;34m==\u001b[0m \u001b[0;34m'NaN'\u001b[0m\u001b[0;34m)\u001b[0m \u001b[0;32mor\u001b[0m \u001b[0;34m(\u001b[0m\u001b[0mdadalleledict\u001b[0m\u001b[0;34m[\u001b[0m\u001b[0;34m'allele1'\u001b[0m\u001b[0;34m]\u001b[0m \u001b[0;34m==\u001b[0m \u001b[0;34m'NaN'\u001b[0m \u001b[0;32mand\u001b[0m \u001b[0mdadalleledict\u001b[0m\u001b[0;34m[\u001b[0m\u001b[0;34m'allele2'\u001b[0m\u001b[0;34m]\u001b[0m \u001b[0;34m==\u001b[0m \u001b[0;34m'NaN'\u001b[0m\u001b[0;34m)\u001b[0m\u001b[0;34m:\u001b[0m\u001b[0;34m\u001b[0m\u001b[0;34m\u001b[0m\u001b[0m\n\u001b[0m\u001b[1;32m      3\u001b[0m         \u001b[0;32mreturn\u001b[0m \u001b[0;34m'Missing alleles,ignore'\u001b[0m\u001b[0;34m\u001b[0m\u001b[0;34m\u001b[0m\u001b[0m\n\u001b[1;32m      4\u001b[0m     \u001b[0;32melse\u001b[0m\u001b[0;34m:\u001b[0m\u001b[0;34m\u001b[0m\u001b[0;34m\u001b[0m\u001b[0m\n\u001b[1;32m      5\u001b[0m         \u001b[0;32mif\u001b[0m \u001b[0mcheck_range\u001b[0m\u001b[0;34m(\u001b[0m\u001b[0mwgl\u001b[0m\u001b[0;34m,\u001b[0m \u001b[0mmomalleledict\u001b[0m\u001b[0;34m[\u001b[0m\u001b[0;34m'allele1'\u001b[0m\u001b[0;34m]\u001b[0m\u001b[0;34m,\u001b[0m\u001b[0mmomalleledict\u001b[0m\u001b[0;34m[\u001b[0m\u001b[0;34m'allele2'\u001b[0m\u001b[0;34m]\u001b[0m\u001b[0;34m,\u001b[0m\u001b[0mkidalleledict\u001b[0m\u001b[0;34m[\u001b[0m\u001b[0;34m'allele1'\u001b[0m\u001b[0;34m]\u001b[0m\u001b[0;34m)\u001b[0m \u001b[0;32mis\u001b[0m \u001b[0;32mTrue\u001b[0m\u001b[0;34m:\u001b[0m\u001b[0;34m\u001b[0m\u001b[0;34m\u001b[0m\u001b[0m\n",
      "\u001b[0;32m~/opt/anaconda3/envs/peddyenv/lib/python3.7/site-packages/pandas/core/generic.py\u001b[0m in \u001b[0;36m__nonzero__\u001b[0;34m(self)\u001b[0m\n\u001b[1;32m   1441\u001b[0m     \u001b[0;32mdef\u001b[0m \u001b[0m__nonzero__\u001b[0m\u001b[0;34m(\u001b[0m\u001b[0mself\u001b[0m\u001b[0;34m)\u001b[0m\u001b[0;34m:\u001b[0m\u001b[0;34m\u001b[0m\u001b[0;34m\u001b[0m\u001b[0m\n\u001b[1;32m   1442\u001b[0m         raise ValueError(\n\u001b[0;32m-> 1443\u001b[0;31m             \u001b[0;34mf\"The truth value of a {type(self).__name__} is ambiguous. \"\u001b[0m\u001b[0;34m\u001b[0m\u001b[0;34m\u001b[0m\u001b[0m\n\u001b[0m\u001b[1;32m   1444\u001b[0m             \u001b[0;34m\"Use a.empty, a.bool(), a.item(), a.any() or a.all().\"\u001b[0m\u001b[0;34m\u001b[0m\u001b[0;34m\u001b[0m\u001b[0m\n\u001b[1;32m   1445\u001b[0m         )\n",
      "\u001b[0;31mValueError\u001b[0m: The truth value of a Series is ambiguous. Use a.empty, a.bool(), a.item(), a.any() or a.all()."
     ]
    }
   ],
   "source": [
    "for row in kiddadmom:\n",
    "    kiddict = {\n",
    "        \"allele1\": kiddadmom[\"allele1kid\"],\n",
    "        \"allele2\": kiddadmom[\"allele2kid\"]\n",
    "    }\n",
    "    momdict = {\n",
    "        \"allele1\": kiddadmom[\"allele1mom\"],\n",
    "        \"allele2\": kiddadmom[\"allele2mom\"]\n",
    "    }\n",
    "    daddict = {\n",
    "        \"allele1\": kiddadmom[\"allele1dad\"],\n",
    "        \"allele2\": kiddadmom[\"allele2dad\"]\n",
    "    }\n",
    "    full_allele_check(wgl,momdict,daddict,kiddict)"
   ]
  },
  {
   "cell_type": "code",
   "execution_count": null,
   "id": "95d1b5de",
   "metadata": {},
   "outputs": [],
   "source": [
    "kiddict = {\n",
    "    \"allele1\": kiddadmom.iat[1,6]\n",
    "}"
   ]
  },
  {
   "cell_type": "code",
   "execution_count": null,
   "id": "54caa149",
   "metadata": {},
   "outputs": [],
   "source": [
    "kiddict[\"allele1\"]"
   ]
  },
  {
   "cell_type": "code",
   "execution_count": 35,
   "id": "a86663a2",
   "metadata": {},
   "outputs": [],
   "source": [
    "def wiggle(wigglecommand):\n",
    "        if type(wigglecommand) is int:\n",
    "            wiggleint = wigglecommand\n",
    "            return wiggleint\n",
    "        else:\n",
    "            type(wigglecommand) is str\n",
    "            wigglestr = int(wigglecommand)\n",
    "            return wigglestr"
   ]
  },
  {
   "cell_type": "code",
   "execution_count": 38,
   "id": "1bc7fb22",
   "metadata": {},
   "outputs": [],
   "source": [
    "def allele_check(allele1,allele2):\n",
    "    if (allele1 == 'NaN') & (allele2 == 'NaN'):\n",
    "        allele1 == 'NaN'\n",
    "    elif (allele1 != 'NaN') & (allele2 == 'NaN'):\n",
    "        if allele1 >= 350:\n",
    "            allele2 = 350\n",
    "            allele1 = 350\n",
    "        else:\n",
    "            allele2 = allele1\n",
    "    elif (allele1 == 'NaN') & (allele2 != 'NaN'):\n",
    "        if allele2 >= 350:\n",
    "            allele1 = 350\n",
    "            allele2 = 350\n",
    "        else:\n",
    "            allele1 = allele2\n",
    "    elif allele2 >= 350:\n",
    "        allele2 = 350   \n",
    "    elif allele1 >= 350:\n",
    "        allele1 = 350\n",
    "    else:\n",
    "        allele1 = allele1\n",
    "        allele2 = allele2\n",
    "    return allele1, allele2"
   ]
  },
  {
   "cell_type": "code",
   "execution_count": 39,
   "id": "74e32ea7",
   "metadata": {},
   "outputs": [
    {
     "data": {
      "text/plain": [
       "('NaN', 'NaN')"
      ]
     },
     "execution_count": 39,
     "metadata": {},
     "output_type": "execute_result"
    }
   ],
   "source": [
    "allele_check('NaN', 'NaN')"
   ]
  },
  {
   "cell_type": "code",
   "execution_count": 29,
   "id": "549b07bc",
   "metadata": {},
   "outputs": [],
   "source": [
    "def allele_range(wigglecommand, allele1, allele2):\n",
    "    if allele1 and allele2 == 'NaN':\n",
    "      return  \n",
    "    else:\n",
    "        tple1 = (allele1 - wiggle(wigglecommand), allele1 + wiggle(wigglecommand))\n",
    "        tple2 = (allele2 - wiggle(wigglecommand), allele2 + wiggle(wigglecommand))\n",
    "    return tple1, tple2\n",
    "\n",
    "    "
   ]
  },
  {
   "cell_type": "code",
   "execution_count": null,
   "id": "ad2f1d4b",
   "metadata": {},
   "outputs": [],
   "source": [
    "allele_range(10,150,150)"
   ]
  },
  {
   "cell_type": "code",
   "execution_count": 30,
   "id": "aac89f3f",
   "metadata": {},
   "outputs": [],
   "source": [
    "def get_allele_ranges(wigglecommand, allele1, allele2):\n",
    "    a, b = allele_check(allele1,allele2)\n",
    "    if a and b == 'NaN':\n",
    "        return\n",
    "    else:\n",
    "        x, y =(allele_range(wigglecommand, a, b))\n",
    "        return x, y\n",
    "    \n",
    "    "
   ]
  },
  {
   "cell_type": "code",
   "execution_count": null,
   "id": "c9cbc3be",
   "metadata": {},
   "outputs": [],
   "source": [
    "get_allele_ranges(10,'NaN','NaN')"
   ]
  },
  {
   "cell_type": "code",
   "execution_count": null,
   "id": "ae1dc482",
   "metadata": {},
   "outputs": [],
   "source": []
  },
  {
   "cell_type": "code",
   "execution_count": null,
   "id": "a1fbd343",
   "metadata": {},
   "outputs": [],
   "source": [
    "kidallele = [150,70]"
   ]
  },
  {
   "cell_type": "code",
   "execution_count": null,
   "id": "3ecb4ce3",
   "metadata": {},
   "outputs": [],
   "source": [
    "kidalleledict = {\n",
    "    'allele1': 150, \n",
    "    'allele2':  70\n",
    "}"
   ]
  },
  {
   "cell_type": "code",
   "execution_count": 31,
   "id": "0f11aa05",
   "metadata": {},
   "outputs": [],
   "source": [
    "def check_range(wigglecommand, allele1, allele2, kidallele):\n",
    "    if get_allele_ranges(wigglecommand, allele1, allele2) is None:\n",
    "        return None\n",
    "    else:\n",
    "        x,y = get_allele_ranges(wigglecommand, allele1, allele2)\n",
    "        a,b = x\n",
    "        c,d = y\n",
    "    if kidallele < 350:\n",
    "        if a <= kidallele <= b or c <= kidallele <= d:\n",
    "            return True\n",
    "        if kidallele > a and b and c and d:\n",
    "            return 'Amplification'\n",
    "        else: \n",
    "            return 'Deletion'\n",
    "    elif kidallele >= 350 and (a or b or c or d) >= 350:\n",
    "        return True    \n",
    "    elif kidallele > a and b and c and d:\n",
    "        return 'Amplification'\n",
    "    else: \n",
    "        return 'Deletion'"
   ]
  },
  {
   "cell_type": "code",
   "execution_count": null,
   "id": "adae167f",
   "metadata": {
    "scrolled": true
   },
   "outputs": [],
   "source": [
    "check_range(wgl, -70, 100, 50)"
   ]
  },
  {
   "cell_type": "code",
   "execution_count": null,
   "id": "b95d5a10",
   "metadata": {},
   "outputs": [],
   "source": [
    "wgl = 10"
   ]
  },
  {
   "cell_type": "code",
   "execution_count": 23,
   "id": "d12a2a64",
   "metadata": {},
   "outputs": [],
   "source": [
    "momalleledict = {\n",
    "    'allele1': 400,\n",
    "    'allele2': 300\n",
    "}"
   ]
  },
  {
   "cell_type": "code",
   "execution_count": 24,
   "id": "f1ba9053",
   "metadata": {},
   "outputs": [],
   "source": [
    "dadalleledict = {\n",
    "    'allele1': 3000,\n",
    "    'allele2': 'NaN'\n",
    "}"
   ]
  },
  {
   "cell_type": "code",
   "execution_count": 25,
   "id": "82484faa",
   "metadata": {},
   "outputs": [],
   "source": [
    "kidalleledict = {\n",
    "    'allele1': 300, \n",
    "    'allele2':  150\n",
    "}"
   ]
  },
  {
   "cell_type": "code",
   "execution_count": null,
   "id": "8ec48ee1",
   "metadata": {},
   "outputs": [],
   "source": [
    "check_range(wgl, momalleledict['allele1'],momalleledict['allele2'],kidalleledict['allele1'])\n"
   ]
  },
  {
   "cell_type": "code",
   "execution_count": null,
   "id": "154b623e",
   "metadata": {},
   "outputs": [],
   "source": [
    "check_range(wgl, momalleledict['allele1'],momalleledict['allele2'],kidalleledict['allele2'])\n"
   ]
  },
  {
   "cell_type": "code",
   "execution_count": 32,
   "id": "11730878",
   "metadata": {},
   "outputs": [],
   "source": [
    "def full_allele_check(wgl, momalleledict, dadalleledict,kidalleledict):\n",
    "    if (kidalleledict['allele1'] == 'NaN' and kidalleledict['allele2'] == 'NaN') or (momalleledict['allele1'] == 'NaN' and momalleledict['allele2'] == 'NaN') or (dadalleledict['allele1'] == 'NaN' and dadalleledict['allele2'] == 'NaN'):\n",
    "        return 'Missing alleles,ignore'\n",
    "    else:\n",
    "        if check_range(wgl, momalleledict['allele1'],momalleledict['allele2'],kidalleledict['allele1']) is True:\n",
    "            if check_range(wgl, dadalleledict['allele1'],dadalleledict['allele2'],kidalleledict['allele2']) is True:\n",
    "                return 'Full match'\n",
    "            else:\n",
    "                return 'MV'\n",
    "        else: \n",
    "            if check_range(wgl, momalleledict['allele1'],momalleledict['allele2'],kidalleledict['allele2']) is True:\n",
    "                if check_range(wgl, dadalleledict['allele1'],dadalleledict['allele2'],kidalleledict['allele1']) is True:\n",
    "                    return \"Full match\"\n",
    "                else: \n",
    "                    return 'MV'\n",
    "            else: \n",
    "                if check_range(wgl, dadalleledict['allele1'],dadalleledict['allele2'],kidalleledict['allele1']) is True:\n",
    "                    return 'MV'\n",
    "                else: \n",
    "                    if check_range(wgl, dadalleledict['allele1'],dadalleledict['allele2'],kidalleledict['allele2']) is True:\n",
    "                        return 'MV'\n",
    "                    else:\n",
    "                        return 'Double MV, likely error'"
   ]
  },
  {
   "cell_type": "code",
   "execution_count": 33,
   "id": "22a1b066",
   "metadata": {},
   "outputs": [
    {
     "data": {
      "text/plain": [
       "'MV'"
      ]
     },
     "execution_count": 33,
     "metadata": {},
     "output_type": "execute_result"
    }
   ],
   "source": [
    "full_allele_check(wgl,momalleledict,dadalleledict,kidalleledict)"
   ]
  },
  {
   "cell_type": "code",
   "execution_count": null,
   "id": "741b66e0",
   "metadata": {},
   "outputs": [],
   "source": [
    "import pytest"
   ]
  },
  {
   "cell_type": "code",
   "execution_count": null,
   "id": "dd1c397e",
   "metadata": {},
   "outputs": [],
   "source": []
  },
  {
   "cell_type": "code",
   "execution_count": null,
   "id": "9cf050cd",
   "metadata": {},
   "outputs": [],
   "source": []
  },
  {
   "cell_type": "code",
   "execution_count": null,
   "id": "d6e7dd75",
   "metadata": {},
   "outputs": [],
   "source": []
  }
 ],
 "metadata": {
  "kernelspec": {
   "display_name": "Python 3",
   "language": "python",
   "name": "python3"
  },
  "language_info": {
   "codemirror_mode": {
    "name": "ipython",
    "version": 3
   },
   "file_extension": ".py",
   "mimetype": "text/x-python",
   "name": "python",
   "nbconvert_exporter": "python",
   "pygments_lexer": "ipython3",
   "version": "3.7.10"
  }
 },
 "nbformat": 4,
 "nbformat_minor": 5
}
