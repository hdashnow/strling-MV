{
 "cells": [
  {
   "cell_type": "code",
   "execution_count": 6,
   "id": "a584eaa2",
   "metadata": {},
   "outputs": [],
   "source": [
    "import argparse\n",
    "import pandas as pd\n",
    "import numpy as np\n",
    "import peddy ### must be in python version 3.7 for peddy to actually work"
   ]
  },
  {
   "cell_type": "code",
   "execution_count": 7,
   "id": "f937a541",
   "metadata": {},
   "outputs": [],
   "source": [
    "ped = peddy.Ped('lynchWGS.ped.txt', 'Paternal_ID' == str) ###import peddy file"
   ]
  },
  {
   "cell_type": "code",
   "execution_count": 8,
   "id": "d27296dd",
   "metadata": {},
   "outputs": [],
   "source": [
    "def has_parents(sample):\n",
    "    \"\"\"Check if Peddy sample has both parents in ped file\"\"\"\n",
    "    if sample.mom is not None and sample.dad is not None:\n",
    "        return True\n",
    "    return False"
   ]
  },
  {
   "cell_type": "code",
   "execution_count": 9,
   "id": "f4bdd796",
   "metadata": {},
   "outputs": [],
   "source": [
    "df = pd.read_table('LaurelSTRsupdated.tsv', delim_whitespace = True, index_col = 0, dtype = {'sample' : str})"
   ]
  },
  {
   "cell_type": "code",
   "execution_count": 10,
   "id": "70ae511c",
   "metadata": {},
   "outputs": [],
   "source": [
    "dfnew = df[['allele1_est', 'allele2_est']]"
   ]
  },
  {
   "cell_type": "code",
   "execution_count": null,
   "id": "69c17dcb",
   "metadata": {},
   "outputs": [],
   "source": [
    "dfnewallele1sorted = dfnew.sort_values(by=['allele1_est'])"
   ]
  },
  {
   "cell_type": "code",
   "execution_count": null,
   "id": "ef15fdda",
   "metadata": {},
   "outputs": [],
   "source": [
    "newdf2 = dfnew.groupby(['allele2_est', 'allele1_est']).first()"
   ]
  },
  {
   "cell_type": "code",
   "execution_count": null,
   "id": "3a1e632c",
   "metadata": {},
   "outputs": [],
   "source": [
    "newdf2"
   ]
  },
  {
   "cell_type": "code",
   "execution_count": null,
   "id": "8702b664",
   "metadata": {},
   "outputs": [],
   "source": [
    "allele_list = []\n",
    "for x in valid_alleles(parent_alleles):\n",
    "    allele_list.append(x)"
   ]
  },
  {
   "cell_type": "code",
   "execution_count": null,
   "id": "f8cd956a",
   "metadata": {},
   "outputs": [],
   "source": [
    "flat_list = list(np.concatenate(allele_list).flat)"
   ]
  },
  {
   "cell_type": "code",
   "execution_count": null,
   "id": "1977334e",
   "metadata": {},
   "outputs": [],
   "source": [
    "sorted(flat_list)"
   ]
  },
  {
   "cell_type": "code",
   "execution_count": null,
   "id": "257606e0",
   "metadata": {},
   "outputs": [],
   "source": [
    "compare_alleles(mom_alleles, dad_alleles, kid_alleles)\n",
    "##could do loop\n",
    "## could do list comprehension but\n",
    "\n",
    "\n",
    "    "
   ]
  },
  {
   "cell_type": "code",
   "execution_count": null,
   "id": "f3a457c7",
   "metadata": {},
   "outputs": [],
   "source": [
    "sum = 0\n",
    "sum += dict[key]\n",
    "## for key in dictionary:"
   ]
  },
  {
   "cell_type": "code",
   "execution_count": null,
   "id": "83897e01",
   "metadata": {},
   "outputs": [],
   "source": [
    "momkid = (set(mom_alleles) & set(kid_alleles))"
   ]
  },
  {
   "cell_type": "code",
   "execution_count": null,
   "id": "c144441d",
   "metadata": {},
   "outputs": [],
   "source": [
    "allele = 100"
   ]
  },
  {
   "cell_type": "code",
   "execution_count": null,
   "id": "706b2d5f",
   "metadata": {},
   "outputs": [],
   "source": [
    "wigglecommand = 10"
   ]
  },
  {
   "cell_type": "code",
   "execution_count": null,
   "id": "c3b6c939",
   "metadata": {},
   "outputs": [],
   "source": [
    "wiggle(wigglecommand)"
   ]
  },
  {
   "cell_type": "code",
   "execution_count": 103,
   "id": "a86663a2",
   "metadata": {},
   "outputs": [],
   "source": [
    "def wiggle(wigglecommand):\n",
    "        if type(wigglecommand) is int:\n",
    "            wiggleint = wigglecommand\n",
    "            return wiggleint\n",
    "        else:\n",
    "            type(wigglecommand) is str\n",
    "            wigglestr = int(wigglecommand)\n",
    "            return wigglestr"
   ]
  },
  {
   "cell_type": "code",
   "execution_count": 3,
   "id": "1bc7fb22",
   "metadata": {},
   "outputs": [],
   "source": [
    "def allele_check(allele1,allele2):\n",
    "    if allele1 == 'NaN' and allele2 == 'NaN':\n",
    "        allele1 == 'NaN'\n",
    "    elif allele1 != 'NaN' and allele2 == 'NaN':\n",
    "        if allele1 >= 350:\n",
    "            allele2 = 350\n",
    "            allele1 = 350\n",
    "        else:\n",
    "            allele2 = allele1\n",
    "    elif allele1 == 'NaN' and allele2 != 'NaN':\n",
    "        if allele2 >= 350:\n",
    "            allele1 = 350\n",
    "            allele2 = 350\n",
    "        else:\n",
    "            allele1 = allele2\n",
    "    elif allele2 >= 350:\n",
    "        allele2 = 350   \n",
    "    elif allele1 >= 350:\n",
    "        allele1 = 350\n",
    "    else:\n",
    "        allele1 = allele1\n",
    "        allele2 = allele2\n",
    "    return allele1, allele2"
   ]
  },
  {
   "cell_type": "code",
   "execution_count": 4,
   "id": "74e32ea7",
   "metadata": {},
   "outputs": [
    {
     "data": {
      "text/plain": [
       "(50, 60)"
      ]
     },
     "execution_count": 4,
     "metadata": {},
     "output_type": "execute_result"
    }
   ],
   "source": [
    "allele_check(50, 60)"
   ]
  },
  {
   "cell_type": "code",
   "execution_count": 83,
   "id": "549b07bc",
   "metadata": {},
   "outputs": [],
   "source": [
    "def allele_range(wigglecommand, allele1, allele2):\n",
    "    if allele1 and allele2 == 'NaN':\n",
    "      return  \n",
    "    else:\n",
    "        tple1 = (allele1 - wiggle(wigglecommand), allele1 + wiggle(wigglecommand))\n",
    "        tple2 = (allele2 - wiggle(wigglecommand), allele2 + wiggle(wigglecommand))\n",
    "    return tple1, tple2\n",
    "\n",
    "    "
   ]
  },
  {
   "cell_type": "code",
   "execution_count": 84,
   "id": "ad2f1d4b",
   "metadata": {},
   "outputs": [
    {
     "data": {
      "text/plain": [
       "((140, 160), (140, 160))"
      ]
     },
     "execution_count": 84,
     "metadata": {},
     "output_type": "execute_result"
    }
   ],
   "source": [
    "allele_range(10,150,150)"
   ]
  },
  {
   "cell_type": "code",
   "execution_count": 24,
   "id": "aac89f3f",
   "metadata": {},
   "outputs": [],
   "source": [
    "def get_allele_ranges(wigglecommand, allele1, allele2):\n",
    "    a, b = allele_check(allele1,allele2)\n",
    "    if a and b == 'NaN':\n",
    "        return\n",
    "    else:\n",
    "        x, y =(allele_range(wigglecommand, a, b))\n",
    "        return x, y\n",
    "    \n",
    "    "
   ]
  },
  {
   "cell_type": "code",
   "execution_count": 86,
   "id": "c9cbc3be",
   "metadata": {},
   "outputs": [],
   "source": [
    "get_allele_ranges(10,'NaN','NaN')"
   ]
  },
  {
   "cell_type": "code",
   "execution_count": null,
   "id": "ae1dc482",
   "metadata": {},
   "outputs": [],
   "source": []
  },
  {
   "cell_type": "code",
   "execution_count": 87,
   "id": "a1fbd343",
   "metadata": {},
   "outputs": [],
   "source": [
    "kidallele = [150,70]"
   ]
  },
  {
   "cell_type": "code",
   "execution_count": 100,
   "id": "3ecb4ce3",
   "metadata": {},
   "outputs": [],
   "source": [
    "kidalleledict = {\n",
    "    'allele1': 150, \n",
    "    'allele2':  70\n",
    "}"
   ]
  },
  {
   "cell_type": "code",
   "execution_count": 124,
   "id": "0f11aa05",
   "metadata": {},
   "outputs": [],
   "source": [
    "def check_range(wigglecommand, allele1, allele2, kidallele):\n",
    "    if get_allele_ranges(wigglecommand, allele1, allele2) is None:\n",
    "        return None\n",
    "    else:\n",
    "        x,y = get_allele_ranges(wigglecommand, allele1, allele2)\n",
    "        a,b = x\n",
    "        c,d = y\n",
    "    if kidallele < 350:\n",
    "        if a <= kidallele <= b or c <= kidallele <= d:\n",
    "            return True\n",
    "        if kidallele > a and b and c and d:\n",
    "            return 'Amplification'\n",
    "        else: \n",
    "            return 'Deletion'\n",
    "    elif kidallele >= 350 and (a or b or c or d) >= 350:\n",
    "        return True    \n",
    "    elif kidallele > a and b and c and d:\n",
    "        return 'Amplification'\n",
    "    else: \n",
    "        return 'Deletion'"
   ]
  },
  {
   "cell_type": "code",
   "execution_count": 106,
   "id": "adae167f",
   "metadata": {
    "scrolled": true
   },
   "outputs": [
    {
     "data": {
      "text/plain": [
       "'Amplification'"
      ]
     },
     "execution_count": 106,
     "metadata": {},
     "output_type": "execute_result"
    }
   ],
   "source": [
    "check_range(wgl, -70, 100, 50)"
   ]
  },
  {
   "cell_type": "code",
   "execution_count": 105,
   "id": "b95d5a10",
   "metadata": {},
   "outputs": [],
   "source": [
    "wgl = 10"
   ]
  },
  {
   "cell_type": "code",
   "execution_count": 186,
   "id": "d12a2a64",
   "metadata": {},
   "outputs": [],
   "source": [
    "momalleledict = {\n",
    "    'allele1': ,\n",
    "    'allele2': 300\n",
    "}"
   ]
  },
  {
   "cell_type": "code",
   "execution_count": 187,
   "id": "f1ba9053",
   "metadata": {},
   "outputs": [],
   "source": [
    "dadalleledict = {\n",
    "    'allele1': 3000,\n",
    "    'allele2': 'NaN'\n",
    "}"
   ]
  },
  {
   "cell_type": "code",
   "execution_count": 188,
   "id": "82484faa",
   "metadata": {},
   "outputs": [],
   "source": [
    "kidalleledict = {\n",
    "    'allele1': 300, \n",
    "    'allele2':  150\n",
    "}"
   ]
  },
  {
   "cell_type": "code",
   "execution_count": 121,
   "id": "8ec48ee1",
   "metadata": {},
   "outputs": [
    {
     "data": {
      "text/plain": [
       "True"
      ]
     },
     "execution_count": 121,
     "metadata": {},
     "output_type": "execute_result"
    }
   ],
   "source": [
    "check_range(wgl, momalleledict['allele1'],momalleledict['allele2'],kidalleledict['allele1'])\n"
   ]
  },
  {
   "cell_type": "code",
   "execution_count": 125,
   "id": "154b623e",
   "metadata": {},
   "outputs": [
    {
     "data": {
      "text/plain": [
       "'Deletion'"
      ]
     },
     "execution_count": 125,
     "metadata": {},
     "output_type": "execute_result"
    }
   ],
   "source": [
    "check_range(wgl, momalleledict['allele1'],momalleledict['allele2'],kidalleledict['allele2'])\n"
   ]
  },
  {
   "cell_type": "code",
   "execution_count": 194,
   "id": "11730878",
   "metadata": {},
   "outputs": [],
   "source": [
    "def full_allele_check(wgl, momalleledict, dadalleledict,kidalleledict):\n",
    "    if (kidalleledict['allele1'] == 'NaN' and kidalleledict['allele2'] == 'NaN') or (momalleledict['allele1'] == 'NaN' and momalleledict['allele2'] == 'NaN') or (dadalleledict['allele1'] == 'NaN' and dadalleledict['allele2'] == 'NaN'):\n",
    "        return 'Missing alleles,ignore'\n",
    "    else:\n",
    "        if check_range(wgl, momalleledict['allele1'],momalleledict['allele2'],kidalleledict['allele1']) is True:\n",
    "            if check_range(wgl, dadalleledict['allele1'],dadalleledict['allele2'],kidalleledict['allele2']) is True:\n",
    "                return 'Full match'\n",
    "            else:\n",
    "                return 'MV'\n",
    "        else: \n",
    "            if check_range(wgl, momalleledict['allele1'],momalleledict['allele2'],kidalleledict['allele2']) is True:\n",
    "                if check_range(wgl, dadalleledict['allele1'],dadalleledict['allele2'],kidalleledict['allele1']) is True:\n",
    "                    return \"Full match\"\n",
    "                else: \n",
    "                    return 'MV'\n",
    "            else: \n",
    "                if check_range(wgl, dadalleledict['allele1'],dadalleledict['allele2'],kidalleledict['allele1']) is True:\n",
    "                    return 'MV'\n",
    "                else: \n",
    "                    if check_range(wgl, dadalleledict['allele1'],dadalleledict['allele2'],kidalleledict['allele2']) is True:\n",
    "                        return 'MV'\n",
    "                    else:\n",
    "                        return 'Double MV, likely error'"
   ]
  },
  {
   "cell_type": "code",
   "execution_count": 196,
   "id": "22a1b066",
   "metadata": {},
   "outputs": [
    {
     "data": {
      "text/plain": [
       "'MV'"
      ]
     },
     "execution_count": 196,
     "metadata": {},
     "output_type": "execute_result"
    }
   ],
   "source": [
    "full_allele_check(wgl,momalleledict,dadalleledict,kidalleledict)"
   ]
  },
  {
   "cell_type": "code",
   "execution_count": 198,
   "id": "741b66e0",
   "metadata": {},
   "outputs": [],
   "source": [
    "import pytest"
   ]
  },
  {
   "cell_type": "code",
   "execution_count": 199,
   "id": "dd1c397e",
   "metadata": {},
   "outputs": [],
   "source": []
  },
  {
   "cell_type": "code",
   "execution_count": null,
   "id": "9cf050cd",
   "metadata": {},
   "outputs": [],
   "source": []
  },
  {
   "cell_type": "code",
   "execution_count": null,
   "id": "d6e7dd75",
   "metadata": {},
   "outputs": [],
   "source": []
  }
 ],
 "metadata": {
  "kernelspec": {
   "display_name": "Python 3",
   "language": "python",
   "name": "python3"
  },
  "language_info": {
   "codemirror_mode": {
    "name": "ipython",
    "version": 3
   },
   "file_extension": ".py",
   "mimetype": "text/x-python",
   "name": "python",
   "nbconvert_exporter": "python",
   "pygments_lexer": "ipython3",
   "version": "3.7.10"
  }
 },
 "nbformat": 4,
 "nbformat_minor": 5
}
