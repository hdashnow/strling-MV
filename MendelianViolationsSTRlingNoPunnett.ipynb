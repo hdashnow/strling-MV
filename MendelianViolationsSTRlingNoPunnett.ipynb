{
 "cells": [
  {
   "cell_type": "code",
   "execution_count": 1,
   "id": "a584eaa2",
   "metadata": {},
   "outputs": [],
   "source": [
    "import argparse\n",
    "import pandas as pd\n",
    "import numpy as np\n",
    "import peddy ### must be in python version 3.7 for peddy to actually work\n"
   ]
  },
  {
   "cell_type": "code",
   "execution_count": null,
   "id": "f937a541",
   "metadata": {},
   "outputs": [],
   "source": [
    "ped = peddy.Ped('lynchWGS.ped.txt', 'Paternal_ID' == str) ###import peddy file"
   ]
  },
  {
   "cell_type": "code",
   "execution_count": null,
   "id": "d27296dd",
   "metadata": {},
   "outputs": [],
   "source": [
    "def has_parents(sample):\n",
    "    \"\"\"Check if Peddy sample has both parents in ped file\"\"\"\n",
    "    if sample.mom is not None and sample.dad is not None:\n",
    "        return True\n",
    "    return False"
   ]
  },
  {
   "cell_type": "code",
   "execution_count": null,
   "id": "f4bdd796",
   "metadata": {},
   "outputs": [],
   "source": [
    "df = pd.read_table('LaurelSTRsupdated.tsv', delim_whitespace = True, index_col = 0, dtype = {'sample' : str})"
   ]
  },
  {
   "cell_type": "code",
   "execution_count": null,
   "id": "70ae511c",
   "metadata": {},
   "outputs": [],
   "source": [
    "dfnew = df[['allele1_est', 'allele2_est']]"
   ]
  },
  {
   "cell_type": "code",
   "execution_count": null,
   "id": "69c17dcb",
   "metadata": {},
   "outputs": [],
   "source": [
    "dfnewallele1sorted = dfnew.sort_values(by=['allele1_est'])"
   ]
  },
  {
   "cell_type": "code",
   "execution_count": null,
   "id": "ef15fdda",
   "metadata": {},
   "outputs": [],
   "source": [
    "newdf2 = dfnew.groupby(['allele2_est', 'allele1_est']).first()"
   ]
  },
  {
   "cell_type": "code",
   "execution_count": 3,
   "id": "3a1e632c",
   "metadata": {},
   "outputs": [
    {
     "ename": "NameError",
     "evalue": "name 'newdf2' is not defined",
     "output_type": "error",
     "traceback": [
      "\u001b[0;31m---------------------------------------------------------------------------\u001b[0m",
      "\u001b[0;31mNameError\u001b[0m                                 Traceback (most recent call last)",
      "\u001b[0;32m<ipython-input-3-112ba5ebf008>\u001b[0m in \u001b[0;36m<module>\u001b[0;34m\u001b[0m\n\u001b[0;32m----> 1\u001b[0;31m \u001b[0mnewdf2\u001b[0m\u001b[0;34m\u001b[0m\u001b[0;34m\u001b[0m\u001b[0m\n\u001b[0m",
      "\u001b[0;31mNameError\u001b[0m: name 'newdf2' is not defined"
     ]
    }
   ],
   "source": [
    "newdf2"
   ]
  },
  {
   "cell_type": "code",
   "execution_count": 14,
   "id": "20cccd80",
   "metadata": {},
   "outputs": [],
   "source": [
    "mom_alleles = ((340, 360), (340, 360))"
   ]
  },
  {
   "cell_type": "code",
   "execution_count": null,
   "id": "11534359",
   "metadata": {},
   "outputs": [],
   "source": [
    "compare_alleles"
   ]
  },
  {
   "cell_type": "code",
   "execution_count": 2,
   "id": "fca55440",
   "metadata": {},
   "outputs": [],
   "source": [
    "def compare_alleles(mom, dad, kid):\n",
    "    results = {}\n",
    "    for i in mom_alleles:\n",
    "        results[i] = kid_alleles.count(i) \n",
    "    print(results)\n",
    "    \n",
    "    results = {}\n",
    "    for i in dad_alleles:\n",
    "        results[i] = kid_alleles.count(i) \n",
    "    print(results)\n",
    "    "
   ]
  },
  {
   "cell_type": "code",
   "execution_count": null,
   "id": "8702b664",
   "metadata": {},
   "outputs": [],
   "source": [
    "allele_list = []\n",
    "for x in valid_alleles(parent_alleles):\n",
    "    allele_list.append(x)"
   ]
  },
  {
   "cell_type": "code",
   "execution_count": null,
   "id": "f8cd956a",
   "metadata": {},
   "outputs": [],
   "source": [
    "flat_list = list(np.concatenate(allele_list).flat)"
   ]
  },
  {
   "cell_type": "code",
   "execution_count": null,
   "id": "1977334e",
   "metadata": {},
   "outputs": [],
   "source": [
    "sorted(flat_list)"
   ]
  },
  {
   "cell_type": "code",
   "execution_count": null,
   "id": "257606e0",
   "metadata": {},
   "outputs": [],
   "source": [
    "compare_alleles(mom_alleles, dad_alleles, kid_alleles)\n",
    "##could do loop\n",
    "## could do list comprehension but\n",
    "\n",
    "\n",
    "    "
   ]
  },
  {
   "cell_type": "code",
   "execution_count": null,
   "id": "f3a457c7",
   "metadata": {},
   "outputs": [],
   "source": [
    "sum = 0\n",
    "sum += dict[key]\n",
    "## for key in dictionary:"
   ]
  },
  {
   "cell_type": "code",
   "execution_count": null,
   "id": "83897e01",
   "metadata": {},
   "outputs": [],
   "source": [
    "momkid = (set(mom_alleles) & set(kid_alleles))"
   ]
  },
  {
   "cell_type": "code",
   "execution_count": null,
   "id": "c144441d",
   "metadata": {},
   "outputs": [],
   "source": [
    "allele = 100"
   ]
  },
  {
   "cell_type": "code",
   "execution_count": null,
   "id": "706b2d5f",
   "metadata": {},
   "outputs": [],
   "source": [
    "wigglecommand = 10"
   ]
  },
  {
   "cell_type": "code",
   "execution_count": null,
   "id": "c3b6c939",
   "metadata": {},
   "outputs": [],
   "source": [
    "wiggle(wigglecommand)"
   ]
  },
  {
   "cell_type": "code",
   "execution_count": 4,
   "id": "a86663a2",
   "metadata": {},
   "outputs": [],
   "source": [
    "def wiggle(wigglecommand):\n",
    "        if type(wigglecommand) is int:\n",
    "            wiggleint = wigglecommand\n",
    "            return wiggleint\n",
    "        else:\n",
    "            type(wigglecommand) is str\n",
    "            wigglestr = int(wigglecommand)\n",
    "            return wigglestr"
   ]
  },
  {
   "cell_type": "code",
   "execution_count": 5,
   "id": "1bc7fb22",
   "metadata": {},
   "outputs": [],
   "source": [
    "def allele_check(allele1,allele2):\n",
    "    if allele1 == 'NaN' and allele2 == 'NaN':\n",
    "        allele1 == 'NaN'\n",
    "    elif allele1 != 'NaN' and allele2 == 'NaN':\n",
    "        if allele1 >= 350:\n",
    "            allele2 = 350\n",
    "            allele1 = 350\n",
    "        else:\n",
    "            allele2 = allele1\n",
    "    elif allele1 == 'NaN' and allele2 != 'NaN':\n",
    "        if allele2 >= 350:\n",
    "            allele1 = 350\n",
    "            allele2 = 350\n",
    "        else:\n",
    "            allele1 = allele2\n",
    "    elif allele2 >= 350:\n",
    "        allele2 = 350   \n",
    "    elif allele1 >= 350:\n",
    "        allele1 = 350\n",
    "    else:\n",
    "        allele1 = allele1\n",
    "        allele2 = allele2\n",
    "    return allele1, allele2"
   ]
  },
  {
   "cell_type": "code",
   "execution_count": 6,
   "id": "74e32ea7",
   "metadata": {},
   "outputs": [
    {
     "data": {
      "text/plain": [
       "(50, 60)"
      ]
     },
     "execution_count": 6,
     "metadata": {},
     "output_type": "execute_result"
    }
   ],
   "source": [
    "allele_check(50, 60)"
   ]
  },
  {
   "cell_type": "code",
   "execution_count": 9,
   "id": "1d7f00b9",
   "metadata": {},
   "outputs": [
    {
     "data": {
      "text/plain": [
       "((140, 160), (140, 160))"
      ]
     },
     "execution_count": 9,
     "metadata": {},
     "output_type": "execute_result"
    }
   ],
   "source": [
    "allele_range(10,150,150)"
   ]
  },
  {
   "cell_type": "code",
   "execution_count": 8,
   "id": "549b07bc",
   "metadata": {},
   "outputs": [],
   "source": [
    "def allele_range(wigglecommand, allele1, allele2):\n",
    "    if allele1 and allele2 == 'NaN':\n",
    "      return  \n",
    "    else:\n",
    "        tple1 = (allele1 - wiggle(wigglecommand), allele1 + wiggle(wigglecommand))\n",
    "        tple2 = (allele2 - wiggle(wigglecommand), allele2 + wiggle(wigglecommand))\n",
    "    return tple1, tple2\n",
    "\n",
    "    "
   ]
  },
  {
   "cell_type": "code",
   "execution_count": 30,
   "id": "aac89f3f",
   "metadata": {},
   "outputs": [],
   "source": [
    "def get_allele_ranges(wigglecommand, allele1, allele2):\n",
    "    a, b = allele_check(allele1,allele2)\n",
    "    x, y =(allele_range(wigglecommand, a, b))\n",
    "    return x, y\n",
    "    \n",
    "    "
   ]
  },
  {
   "cell_type": "code",
   "execution_count": 31,
   "id": "c9cbc3be",
   "metadata": {},
   "outputs": [
    {
     "data": {
      "text/plain": [
       "((340, 360), (340, 360))"
      ]
     },
     "execution_count": 31,
     "metadata": {},
     "output_type": "execute_result"
    }
   ],
   "source": [
    "get_allele_ranges(10,500,'NaN')"
   ]
  },
  {
   "cell_type": "code",
   "execution_count": 25,
   "id": "df513d4a",
   "metadata": {},
   "outputs": [],
   "source": [
    "def setup_check_range(wigglecommand, tuplee1, tuplee2):\n",
    "    print(x)\n",
    "    print(y)"
   ]
  },
  {
   "cell_type": "code",
   "execution_count": null,
   "id": "ae1dc482",
   "metadata": {},
   "outputs": [],
   "source": []
  },
  {
   "cell_type": "code",
   "execution_count": null,
   "id": "a1fbd343",
   "metadata": {},
   "outputs": [],
   "source": []
  },
  {
   "cell_type": "code",
   "execution_count": null,
   "id": "3ecb4ce3",
   "metadata": {},
   "outputs": [],
   "source": []
  },
  {
   "cell_type": "code",
   "execution_count": 50,
   "id": "0f11aa05",
   "metadata": {},
   "outputs": [],
   "source": [
    "def check_range(wigglecommand, allele1, allele2, kidallele):\n",
    "    x,y = get_allele_ranges(wigglecommand, allele1, allele2)\n",
    "    a,b = x\n",
    "    c,d = y\n",
    "    if a <= kidallele <= b or c <= kidallele <= d:\n",
    "        return True\n",
    "    elif kidallele > a and b:\n",
    "        return 'Too big'\n",
    "    else: \n",
    "        print('Booooo')"
   ]
  },
  {
   "cell_type": "code",
   "execution_count": 51,
   "id": "adae167f",
   "metadata": {
    "scrolled": true
   },
   "outputs": [
    {
     "data": {
      "text/plain": [
       "True"
      ]
     },
     "execution_count": 51,
     "metadata": {},
     "output_type": "execute_result"
    }
   ],
   "source": [
    "check_range(10, 150,130,120)"
   ]
  },
  {
   "cell_type": "code",
   "execution_count": 19,
   "id": "f46454e5",
   "metadata": {},
   "outputs": [
    {
     "ename": "NameError",
     "evalue": "name 'kidallele' is not defined",
     "output_type": "error",
     "traceback": [
      "\u001b[0;31m---------------------------------------------------------------------------\u001b[0m",
      "\u001b[0;31mNameError\u001b[0m                                 Traceback (most recent call last)",
      "\u001b[0;32m<ipython-input-19-93ae3c097816>\u001b[0m in \u001b[0;36m<module>\u001b[0;34m\u001b[0m\n\u001b[0;32m----> 1\u001b[0;31m \u001b[0mcheck_range\u001b[0m\u001b[0;34m(\u001b[0m\u001b[0mkidallele\u001b[0m\u001b[0;34m,\u001b[0m \u001b[0mallele_range\u001b[0m\u001b[0;34m(\u001b[0m\u001b[0mwigglecommand\u001b[0m\u001b[0;34m,\u001b[0m \u001b[0mmom_allele1\u001b[0m\u001b[0;34m)\u001b[0m\u001b[0;34m)\u001b[0m\u001b[0;34m\u001b[0m\u001b[0;34m\u001b[0m\u001b[0m\n\u001b[0m\u001b[1;32m      2\u001b[0m \u001b[0mcheck_range\u001b[0m\u001b[0;34m(\u001b[0m\u001b[0mkidallele\u001b[0m\u001b[0;34m,\u001b[0m \u001b[0mallele_range\u001b[0m\u001b[0;34m(\u001b[0m\u001b[0mwigglecommand\u001b[0m\u001b[0;34m,\u001b[0m \u001b[0mmom_allele2\u001b[0m\u001b[0;34m)\u001b[0m\u001b[0;34m)\u001b[0m\u001b[0;34m\u001b[0m\u001b[0;34m\u001b[0m\u001b[0m\n",
      "\u001b[0;31mNameError\u001b[0m: name 'kidallele' is not defined"
     ]
    }
   ],
   "source": [
    "check_range(kidallele, allele_range(wigglecommand, mom_allele1))\n",
    "check_range(kidallele, allele_range(wigglecommand, mom_allele2))"
   ]
  },
  {
   "cell_type": "code",
   "execution_count": 20,
   "id": "11730878",
   "metadata": {},
   "outputs": [
    {
     "ename": "NameError",
     "evalue": "name 'kidallele' is not defined",
     "output_type": "error",
     "traceback": [
      "\u001b[0;31m---------------------------------------------------------------------------\u001b[0m",
      "\u001b[0;31mNameError\u001b[0m                                 Traceback (most recent call last)",
      "\u001b[0;32m<ipython-input-20-9232178b0cd5>\u001b[0m in \u001b[0;36m<module>\u001b[0;34m\u001b[0m\n\u001b[0;32m----> 1\u001b[0;31m \u001b[0;32mif\u001b[0m \u001b[0mcheck_range\u001b[0m\u001b[0;34m(\u001b[0m\u001b[0mkidallele\u001b[0m\u001b[0;34m,\u001b[0m \u001b[0mallele_range\u001b[0m\u001b[0;34m(\u001b[0m\u001b[0mwigglecommand\u001b[0m\u001b[0;34m,\u001b[0m \u001b[0mmom_allele1\u001b[0m\u001b[0;34m)\u001b[0m\u001b[0;34m)\u001b[0m \u001b[0;32mis\u001b[0m \u001b[0;32mTrue\u001b[0m\u001b[0;34m:\u001b[0m\u001b[0;34m\u001b[0m\u001b[0;34m\u001b[0m\u001b[0m\n\u001b[0m\u001b[1;32m      2\u001b[0m     \u001b[0mprint\u001b[0m\u001b[0;34m(\u001b[0m\u001b[0;34m\"Cool\"\u001b[0m\u001b[0;34m)\u001b[0m\u001b[0;34m\u001b[0m\u001b[0;34m\u001b[0m\u001b[0m\n\u001b[1;32m      3\u001b[0m \u001b[0;32melse\u001b[0m\u001b[0;34m:\u001b[0m\u001b[0;34m\u001b[0m\u001b[0;34m\u001b[0m\u001b[0m\n\u001b[1;32m      4\u001b[0m     \u001b[0mprint\u001b[0m\u001b[0;34m(\u001b[0m\u001b[0;34m'What is up'\u001b[0m\u001b[0;34m)\u001b[0m\u001b[0;34m\u001b[0m\u001b[0;34m\u001b[0m\u001b[0m\n",
      "\u001b[0;31mNameError\u001b[0m: name 'kidallele' is not defined"
     ]
    }
   ],
   "source": [
    "if check_range(kidallele, allele_range(wigglecommand, mom_allele1)) is True:\n",
    "    print(\"Cool\")\n",
    "else:\n",
    "    print('What is up')"
   ]
  },
  {
   "cell_type": "code",
   "execution_count": null,
   "id": "0b92277f",
   "metadata": {},
   "outputs": [],
   "source": [
    "mom_allele2 = 200"
   ]
  }
 ],
 "metadata": {
  "kernelspec": {
   "display_name": "Python 3",
   "language": "python",
   "name": "python3"
  },
  "language_info": {
   "codemirror_mode": {
    "name": "ipython",
    "version": 3
   },
   "file_extension": ".py",
   "mimetype": "text/x-python",
   "name": "python",
   "nbconvert_exporter": "python",
   "pygments_lexer": "ipython3",
   "version": "3.8.8"
  }
 },
 "nbformat": 4,
 "nbformat_minor": 5
}
