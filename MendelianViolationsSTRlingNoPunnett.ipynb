{
 "cells": [
  {
   "cell_type": "code",
   "execution_count": 44,
   "id": "a584eaa2",
   "metadata": {},
   "outputs": [],
   "source": [
    "import argparse\n",
    "import pandas as pd\n",
    "import numpy as np\n",
    "import peddy ### must be in python version 3.7 for peddy to actually work\n"
   ]
  },
  {
   "cell_type": "code",
   "execution_count": null,
   "id": "f937a541",
   "metadata": {},
   "outputs": [],
   "source": [
    "ped = peddy.Ped('lynchWGS.ped.txt', 'Paternal_ID' == str) ###import peddy file"
   ]
  },
  {
   "cell_type": "code",
   "execution_count": null,
   "id": "d27296dd",
   "metadata": {},
   "outputs": [],
   "source": [
    "def has_parents(sample):\n",
    "    \"\"\"Check if Peddy sample has both parents in ped file\"\"\"\n",
    "    if sample.mom is not None and sample.dad is not None:\n",
    "        return True\n",
    "    return False"
   ]
  },
  {
   "cell_type": "code",
   "execution_count": null,
   "id": "f4bdd796",
   "metadata": {},
   "outputs": [],
   "source": [
    "df = pd.read_table('LaurelSTRsupdated.tsv', delim_whitespace = True, index_col = 0, dtype = {'sample' : str})"
   ]
  },
  {
   "cell_type": "code",
   "execution_count": null,
   "id": "70ae511c",
   "metadata": {},
   "outputs": [],
   "source": [
    "dfnew = df[['allele1_est', 'allele2_est']]"
   ]
  },
  {
   "cell_type": "code",
   "execution_count": null,
   "id": "69c17dcb",
   "metadata": {},
   "outputs": [],
   "source": [
    "dfnewallele1sorted = dfnew.sort_values(by=['allele1_est'])"
   ]
  },
  {
   "cell_type": "code",
   "execution_count": null,
   "id": "ef15fdda",
   "metadata": {},
   "outputs": [],
   "source": [
    "newdf2 = dfnew.groupby(['allele2_est', 'allele1_est']).first()"
   ]
  },
  {
   "cell_type": "code",
   "execution_count": null,
   "id": "3a1e632c",
   "metadata": {},
   "outputs": [],
   "source": [
    "newdf2"
   ]
  },
  {
   "cell_type": "code",
   "execution_count": 91,
   "id": "537fec16",
   "metadata": {},
   "outputs": [],
   "source": [
    "dad_alleles = [0.00, 152]"
   ]
  },
  {
   "cell_type": "code",
   "execution_count": 92,
   "id": "45300708",
   "metadata": {},
   "outputs": [],
   "source": [
    "mom_alleles = [300, 0.00]"
   ]
  },
  {
   "cell_type": "code",
   "execution_count": 20,
   "id": "dd621303",
   "metadata": {},
   "outputs": [],
   "source": [
    "parent_alleles = ['NaN', 'NaN', 'NaN', 'NaN']"
   ]
  },
  {
   "cell_type": "code",
   "execution_count": 75,
   "id": "6eb9c8ab",
   "metadata": {},
   "outputs": [],
   "source": [
    "kid_alleles = [3.67, 5000]"
   ]
  },
  {
   "cell_type": "code",
   "execution_count": 90,
   "id": "46564da4",
   "metadata": {},
   "outputs": [],
   "source": [
    "kid_alleles = [0.00, 4000]"
   ]
  },
  {
   "cell_type": "code",
   "execution_count": null,
   "id": "d255e2e2",
   "metadata": {},
   "outputs": [],
   "source": []
  },
  {
   "cell_type": "code",
   "execution_count": 77,
   "id": "fe672ee2",
   "metadata": {},
   "outputs": [],
   "source": [
    "def valid_alleles(p_alleles):\n",
    "    if len(p_alleles) < 2:\n",
    "        yield []\n",
    "        return\n",
    "    if len(p_alleles) % 2 == 1:\n",
    "        # Handle odd length list\n",
    "        for i in range(len(p_alleles)):\n",
    "            for result in valid_alleles(p_alleles[:i] + p_alleles[i+1:]):\n",
    "                yield result\n",
    "    else:\n",
    "        a = p_alleles[0]\n",
    "        for i in range(1,len(p_alleles)):\n",
    "            pair = (a,p_alleles[i])\n",
    "            for rest in valid_alleles(p_alleles[1:i]+p_alleles[i+1:]):\n",
    "                yield [pair] + rest"
   ]
  },
  {
   "cell_type": "code",
   "execution_count": 68,
   "id": "29537e4e",
   "metadata": {},
   "outputs": [],
   "source": [
    "allele_list = []\n",
    "for x in valid_alleles(mom_alleles):\n",
    "        allele_list.append(x)"
   ]
  },
  {
   "cell_type": "code",
   "execution_count": 69,
   "id": "e1c3f972",
   "metadata": {},
   "outputs": [
    {
     "data": {
      "text/plain": [
       "[[(5000, 0.0)]]"
      ]
     },
     "execution_count": 69,
     "metadata": {},
     "output_type": "execute_result"
    }
   ],
   "source": [
    "allele_list"
   ]
  },
  {
   "cell_type": "code",
   "execution_count": 112,
   "id": "6a6296d6",
   "metadata": {},
   "outputs": [],
   "source": [
    "kiddict = {\n",
    "    \"allele1\": 400,\n",
    "    'allele2': 0,\n",
    "}"
   ]
  },
  {
   "cell_type": "code",
   "execution_count": 113,
   "id": "2dcd3ede",
   "metadata": {},
   "outputs": [],
   "source": [
    "momdict = {\n",
    "    \"allele1\": 400,\n",
    "    'allele2': 0,\n",
    "}"
   ]
  },
  {
   "cell_type": "code",
   "execution_count": 114,
   "id": "70ecf35e",
   "metadata": {},
   "outputs": [
    {
     "data": {
      "text/plain": [
       "400"
      ]
     },
     "execution_count": 114,
     "metadata": {},
     "output_type": "execute_result"
    }
   ],
   "source": [
    "momdict[\"allele1\"] "
   ]
  },
  {
   "cell_type": "code",
   "execution_count": null,
   "id": "481de4f4",
   "metadata": {},
   "outputs": [],
   "source": []
  },
  {
   "cell_type": "code",
   "execution_count": 109,
   "id": "ba3abd17",
   "metadata": {},
   "outputs": [
    {
     "data": {
      "text/plain": [
       "400"
      ]
     },
     "execution_count": 109,
     "metadata": {},
     "output_type": "execute_result"
    }
   ],
   "source": [
    "kiddict[\"allele1\"]"
   ]
  },
  {
   "cell_type": "code",
   "execution_count": 111,
   "id": "0b5ae278",
   "metadata": {},
   "outputs": [
    {
     "ename": "TypeError",
     "evalue": "argument of type 'int' is not iterable",
     "output_type": "error",
     "traceback": [
      "\u001b[0;31m---------------------------------------------------------------------------\u001b[0m",
      "\u001b[0;31mTypeError\u001b[0m                                 Traceback (most recent call last)",
      "\u001b[0;32m<ipython-input-111-c80160d3c195>\u001b[0m in \u001b[0;36m<module>\u001b[0;34m\u001b[0m\n\u001b[1;32m      3\u001b[0m \u001b[0;34m\u001b[0m\u001b[0m\n\u001b[1;32m      4\u001b[0m \u001b[0;32mfor\u001b[0m \u001b[0mx\u001b[0m \u001b[0;32min\u001b[0m \u001b[0mmom_alleles\u001b[0m\u001b[0;34m:\u001b[0m\u001b[0;34m\u001b[0m\u001b[0;34m\u001b[0m\u001b[0m\n\u001b[0;32m----> 5\u001b[0;31m   \u001b[0;32mif\u001b[0m \u001b[0mkid_alleles\u001b[0m \u001b[0;32min\u001b[0m \u001b[0mx\u001b[0m\u001b[0;34m:\u001b[0m\u001b[0;34m\u001b[0m\u001b[0;34m\u001b[0m\u001b[0m\n\u001b[0m\u001b[1;32m      6\u001b[0m     \u001b[0mnewlist\u001b[0m\u001b[0;34m.\u001b[0m\u001b[0mappend\u001b[0m\u001b[0;34m(\u001b[0m\u001b[0mx\u001b[0m\u001b[0;34m)\u001b[0m\u001b[0;34m\u001b[0m\u001b[0;34m\u001b[0m\u001b[0m\n\u001b[1;32m      7\u001b[0m \u001b[0;34m\u001b[0m\u001b[0m\n",
      "\u001b[0;31mTypeError\u001b[0m: argument of type 'int' is not iterable"
     ]
    }
   ],
   "source": [
    "fruits = [\"apple\", \"banana\", \"cherry\", \"kiwi\", \"mango\"]\n",
    "newlist = []\n",
    "\n",
    "for x in mom_alleles:\n",
    "  if \"a\" in x:\n",
    "    newlist.append(x)\n",
    "\n",
    "print(newlist)\n"
   ]
  },
  {
   "cell_type": "code",
   "execution_count": null,
   "id": "11534359",
   "metadata": {},
   "outputs": [],
   "source": []
  },
  {
   "cell_type": "code",
   "execution_count": null,
   "id": "8b18aa10",
   "metadata": {},
   "outputs": [],
   "source": [
    "#def compare_alleles(parents, kids):\n",
    " #   allele_list = []\n",
    "  #  for x in valid_alleles(parent_alleles):\n",
    "   #     allele_list.append(x)\n",
    "    #flat_list = list(np.concatenate(allele_list).flat)\n",
    "    #if len(set(flat_list).intersection(kid_alleles)) > 0:\n",
    "     #   print('Possible match!')\n",
    "      #  print(set(flat_list).intersection(kid_alleles))\n",
    "    #else:\n",
    "     #   print('No match')\n",
    "    ### this can't work because sets eliminate the duplicates"
   ]
  },
  {
   "cell_type": "code",
   "execution_count": 104,
   "id": "fca55440",
   "metadata": {},
   "outputs": [],
   "source": [
    "def compare_alleles(mom, dad, kid):\n",
    "    results = {}\n",
    "    for i in mom_alleles:\n",
    "        results[i] = kid_alleles.count(i) \n",
    "    print(results)\n",
    "    \n",
    "    results = {}\n",
    "    for i in dad_alleles:\n",
    "        results[i] = kid_alleles.count(i) \n",
    "    print(results)\n",
    "    "
   ]
  },
  {
   "cell_type": "code",
   "execution_count": 55,
   "id": "8702b664",
   "metadata": {},
   "outputs": [],
   "source": [
    "allele_list = []\n",
    "for x in valid_alleles(parent_alleles):\n",
    "    allele_list.append(x)"
   ]
  },
  {
   "cell_type": "code",
   "execution_count": 62,
   "id": "f8cd956a",
   "metadata": {},
   "outputs": [],
   "source": [
    "flat_list = list(np.concatenate(allele_list).flat)"
   ]
  },
  {
   "cell_type": "code",
   "execution_count": 72,
   "id": "1977334e",
   "metadata": {},
   "outputs": [
    {
     "data": {
      "text/plain": [
       "[0.0, 0.0, 0.0, 0.0, 0.0, 0.0, 3.67, 3.67, 3.67, 5000.0, 5000.0, 5000.0]"
      ]
     },
     "execution_count": 72,
     "metadata": {},
     "output_type": "execute_result"
    }
   ],
   "source": [
    "sorted(flat_list)"
   ]
  },
  {
   "cell_type": "code",
   "execution_count": 105,
   "id": "257606e0",
   "metadata": {},
   "outputs": [
    {
     "name": "stdout",
     "output_type": "stream",
     "text": [
      "{300: 0, 0.0: 1}\n",
      "{0.0: 1, 152: 0}\n"
     ]
    }
   ],
   "source": [
    "compare_alleles(mom_alleles, dad_alleles, kid_alleles)\n",
    "##could do loop\n",
    "## could do list comprehension but\n",
    "\n",
    "\n",
    "    "
   ]
  },
  {
   "cell_type": "code",
   "execution_count": 95,
   "id": "f3a457c7",
   "metadata": {},
   "outputs": [
    {
     "ename": "NameError",
     "evalue": "name 'key' is not defined",
     "output_type": "error",
     "traceback": [
      "\u001b[0;31m---------------------------------------------------------------------------\u001b[0m",
      "\u001b[0;31mNameError\u001b[0m                                 Traceback (most recent call last)",
      "\u001b[0;32m<ipython-input-95-558e780f63bf>\u001b[0m in \u001b[0;36m<module>\u001b[0;34m\u001b[0m\n\u001b[1;32m      1\u001b[0m \u001b[0msum\u001b[0m \u001b[0;34m=\u001b[0m \u001b[0;36m0\u001b[0m\u001b[0;34m\u001b[0m\u001b[0;34m\u001b[0m\u001b[0m\n\u001b[0;32m----> 2\u001b[0;31m \u001b[0msum\u001b[0m \u001b[0;34m+=\u001b[0m \u001b[0mdict\u001b[0m\u001b[0;34m[\u001b[0m\u001b[0mkey\u001b[0m\u001b[0;34m]\u001b[0m\u001b[0;34m\u001b[0m\u001b[0;34m\u001b[0m\u001b[0m\n\u001b[0m\u001b[1;32m      3\u001b[0m \u001b[0;31m## for key in dictionary:\u001b[0m\u001b[0;34m\u001b[0m\u001b[0;34m\u001b[0m\u001b[0;34m\u001b[0m\u001b[0m\n",
      "\u001b[0;31mNameError\u001b[0m: name 'key' is not defined"
     ]
    }
   ],
   "source": [
    "sum = 0\n",
    "sum += dict[key]\n",
    "## for key in dictionary:"
   ]
  },
  {
   "cell_type": "code",
   "execution_count": 101,
   "id": "83897e01",
   "metadata": {},
   "outputs": [],
   "source": [
    "momkid = (set(mom_alleles) & set(kid_alleles))"
   ]
  },
  {
   "cell_type": "code",
   "execution_count": 102,
   "id": "706b2d5f",
   "metadata": {},
   "outputs": [
    {
     "data": {
      "text/plain": [
       "{0.0}"
      ]
     },
     "execution_count": 102,
     "metadata": {},
     "output_type": "execute_result"
    }
   ],
   "source": [
    "momkid"
   ]
  }
 ],
 "metadata": {
  "kernelspec": {
   "display_name": "Python 3",
   "language": "python",
   "name": "python3"
  },
  "language_info": {
   "codemirror_mode": {
    "name": "ipython",
    "version": 3
   },
   "file_extension": ".py",
   "mimetype": "text/x-python",
   "name": "python",
   "nbconvert_exporter": "python",
   "pygments_lexer": "ipython3",
   "version": "3.8.8"
  }
 },
 "nbformat": 4,
 "nbformat_minor": 5
}
